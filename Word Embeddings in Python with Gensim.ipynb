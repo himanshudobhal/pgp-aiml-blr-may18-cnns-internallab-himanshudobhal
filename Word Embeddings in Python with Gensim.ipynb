{
 "cells": [
  {
   "cell_type": "markdown",
   "metadata": {},
   "source": [
    "## Word Embeddings in Python with Gensim"
   ]
  },
  {
   "cell_type": "markdown",
   "metadata": {},
   "source": [
    "In this, you will practice how to train and load word embedding models for natural language processing applications in Python using Gensim.\n",
    "\n"
   ]
  },
  {
   "cell_type": "markdown",
   "metadata": {},
   "source": [
    "1. How to train your own word2vec word embedding model on text data.\n",
    "2. How to visualize a trained word embedding model using Principal Component Analysis.\n",
    "3. How to load pre-trained word2vec word embedding models."
   ]
  },
  {
   "cell_type": "markdown",
   "metadata": {},
   "source": [
    "### Run the below two commands to install gensim and the wiki dataset"
   ]
  },
  {
   "cell_type": "code",
   "execution_count": 1,
   "metadata": {},
   "outputs": [],
   "source": [
    "import logging\n",
    "logging.basicConfig(format='%(asctime)s : %(levelname)s : %(message)s', \n",
    "                    level=logging.INFO)"
   ]
  },
  {
   "cell_type": "code",
   "execution_count": 2,
   "metadata": {
    "scrolled": true
   },
   "outputs": [
    {
     "name": "stdout",
     "output_type": "stream",
     "text": [
      "Requirement already up-to-date: gensim in c:\\users\\bananth\\appdata\\local\\continuum\\anaconda3\\lib\\site-packages (3.6.0)\n",
      "Requirement already satisfied, skipping upgrade: smart-open>=1.2.1 in c:\\users\\bananth\\appdata\\local\\continuum\\anaconda3\\lib\\site-packages (from gensim) (1.7.1)\n",
      "Requirement already satisfied, skipping upgrade: six>=1.5.0 in c:\\users\\bananth\\appdata\\local\\continuum\\anaconda3\\lib\\site-packages (from gensim) (1.11.0)\n",
      "Requirement already satisfied, skipping upgrade: numpy>=1.11.3 in c:\\users\\bananth\\appdata\\local\\continuum\\anaconda3\\lib\\site-packages (from gensim) (1.15.3)\n",
      "Requirement already satisfied, skipping upgrade: scipy>=0.18.1 in c:\\users\\bananth\\appdata\\local\\continuum\\anaconda3\\lib\\site-packages (from gensim) (1.1.0)\n",
      "Requirement already satisfied, skipping upgrade: boto3 in c:\\users\\bananth\\appdata\\local\\continuum\\anaconda3\\lib\\site-packages (from smart-open>=1.2.1->gensim) (1.9.37)\n",
      "Requirement already satisfied, skipping upgrade: requests in c:\\users\\bananth\\appdata\\local\\continuum\\anaconda3\\lib\\site-packages (from smart-open>=1.2.1->gensim) (2.18.4)\n",
      "Requirement already satisfied, skipping upgrade: boto>=2.32 in c:\\users\\bananth\\appdata\\local\\continuum\\anaconda3\\lib\\site-packages (from smart-open>=1.2.1->gensim) (2.48.0)\n",
      "Requirement already satisfied, skipping upgrade: bz2file in c:\\users\\bananth\\appdata\\local\\continuum\\anaconda3\\lib\\site-packages (from smart-open>=1.2.1->gensim) (0.98)\n",
      "Requirement already satisfied, skipping upgrade: s3transfer<0.2.0,>=0.1.10 in c:\\users\\bananth\\appdata\\local\\continuum\\anaconda3\\lib\\site-packages (from boto3->smart-open>=1.2.1->gensim) (0.1.13)\n",
      "Requirement already satisfied, skipping upgrade: botocore<1.13.0,>=1.12.37 in c:\\users\\bananth\\appdata\\local\\continuum\\anaconda3\\lib\\site-packages (from boto3->smart-open>=1.2.1->gensim) (1.12.37)\n",
      "Requirement already satisfied, skipping upgrade: jmespath<1.0.0,>=0.7.1 in c:\\users\\bananth\\appdata\\local\\continuum\\anaconda3\\lib\\site-packages (from boto3->smart-open>=1.2.1->gensim) (0.9.3)\n",
      "Requirement already satisfied, skipping upgrade: chardet<3.1.0,>=3.0.2 in c:\\users\\bananth\\appdata\\local\\continuum\\anaconda3\\lib\\site-packages (from requests->smart-open>=1.2.1->gensim) (3.0.4)\n",
      "Requirement already satisfied, skipping upgrade: idna<2.7,>=2.5 in c:\\users\\bananth\\appdata\\local\\continuum\\anaconda3\\lib\\site-packages (from requests->smart-open>=1.2.1->gensim) (2.6)\n",
      "Requirement already satisfied, skipping upgrade: urllib3<1.23,>=1.21.1 in c:\\users\\bananth\\appdata\\local\\continuum\\anaconda3\\lib\\site-packages (from requests->smart-open>=1.2.1->gensim) (1.22)\n",
      "Requirement already satisfied, skipping upgrade: certifi>=2017.4.17 in c:\\users\\bananth\\appdata\\local\\continuum\\anaconda3\\lib\\site-packages (from requests->smart-open>=1.2.1->gensim) (2018.4.16)\n",
      "Requirement already satisfied, skipping upgrade: python-dateutil<3.0.0,>=2.1; python_version >= \"2.7\" in c:\\users\\bananth\\appdata\\local\\continuum\\anaconda3\\lib\\site-packages (from botocore<1.13.0,>=1.12.37->boto3->smart-open>=1.2.1->gensim) (2.7.3)\n",
      "Requirement already satisfied, skipping upgrade: docutils>=0.10 in c:\\users\\bananth\\appdata\\local\\continuum\\anaconda3\\lib\\site-packages (from botocore<1.13.0,>=1.12.37->boto3->smart-open>=1.2.1->gensim) (0.14)\n"
     ]
    }
   ],
   "source": [
    "!pip install --upgrade gensim --user"
   ]
  },
  {
   "cell_type": "code",
   "execution_count": 3,
   "metadata": {
    "scrolled": false
   },
   "outputs": [
    {
     "name": "stdout",
     "output_type": "stream",
     "text": [
      "Requirement already satisfied: wikipedia in c:\\users\\bananth\\appdata\\roaming\\python\\python36\\site-packages (1.4.0)\n",
      "Requirement already satisfied: beautifulsoup4 in c:\\users\\bananth\\appdata\\local\\continuum\\anaconda3\\lib\\site-packages (from wikipedia) (4.6.0)\n",
      "Requirement already satisfied: requests<3.0.0,>=2.0.0 in c:\\users\\bananth\\appdata\\local\\continuum\\anaconda3\\lib\\site-packages (from wikipedia) (2.18.4)\n",
      "Requirement already satisfied: chardet<3.1.0,>=3.0.2 in c:\\users\\bananth\\appdata\\local\\continuum\\anaconda3\\lib\\site-packages (from requests<3.0.0,>=2.0.0->wikipedia) (3.0.4)\n",
      "Requirement already satisfied: idna<2.7,>=2.5 in c:\\users\\bananth\\appdata\\local\\continuum\\anaconda3\\lib\\site-packages (from requests<3.0.0,>=2.0.0->wikipedia) (2.6)\n",
      "Requirement already satisfied: urllib3<1.23,>=1.21.1 in c:\\users\\bananth\\appdata\\local\\continuum\\anaconda3\\lib\\site-packages (from requests<3.0.0,>=2.0.0->wikipedia) (1.22)\n",
      "Requirement already satisfied: certifi>=2017.4.17 in c:\\users\\bananth\\appdata\\local\\continuum\\anaconda3\\lib\\site-packages (from requests<3.0.0,>=2.0.0->wikipedia) (2018.4.16)\n"
     ]
    }
   ],
   "source": [
    "!pip install wikipedia --user"
   ]
  },
  {
   "cell_type": "code",
   "execution_count": 4,
   "metadata": {},
   "outputs": [],
   "source": [
    "import logging\n",
    "#logging.basicConfig(format='%(asctime)s : %(levelname)s : %(message)s', \n",
    "#                    level=logging.INFO)\n",
    "import pandas as pd"
   ]
  },
  {
   "cell_type": "markdown",
   "metadata": {},
   "source": [
    "### Import gensim"
   ]
  },
  {
   "cell_type": "code",
   "execution_count": 5,
   "metadata": {},
   "outputs": [
    {
     "name": "stderr",
     "output_type": "stream",
     "text": [
      "C:\\Users\\bananth\\AppData\\Local\\Continuum\\anaconda3\\lib\\site-packages\\gensim\\utils.py:1212: UserWarning: detected Windows; aliasing chunkize to chunkize_serial\n",
      "  warnings.warn(\"detected Windows; aliasing chunkize to chunkize_serial\")\n",
      "2018-11-04 15:17:23,677 : INFO : 'pattern' package not found; tag filters are not available for English\n"
     ]
    }
   ],
   "source": [
    "import gensim"
   ]
  },
  {
   "cell_type": "markdown",
   "metadata": {},
   "source": [
    "### Obtain Text"
   ]
  },
  {
   "cell_type": "markdown",
   "metadata": {},
   "source": [
    "#### Import search and page functions from wikipedia module\n",
    "\n",
    "search(/key word/): search function takes keyword as argument and gives top 10 article titles matching the given keyword.\n",
    "\n",
    "\n",
    "page(/title of article/): page function takes page title as argument and gives content in the output."
   ]
  },
  {
   "cell_type": "code",
   "execution_count": 6,
   "metadata": {},
   "outputs": [
    {
     "name": "stdout",
     "output_type": "stream",
     "text": [
      "Machine learning (ML) is a field of artificial intelligence that uses statistical techniques to give computer systems the ability to \"learn\" (e.g., progressively improve performance on a specific task) from data, without being explicitly programmed.The name machine learning was coined in 1959 by Arthur Samuel. Machine learning explores the study and construction of algorithms that can learn from and make predictions on data – such algorithms overcome following strictly static program instructions by making data-driven predictions or decisions, through building a model from sample inputs. Machine learning is employed in a range of computing tasks where designing and programming explicit algorithms with good performance is difficult or infeasible; example applications include email filtering, detection of network intruders, and computer vision.\n",
      "Machine learning is closely related to (and often overlaps with) computational statistics, which also focuses on prediction-making through the use of computers. It has strong ties to mathematical optimization, which delivers methods, theory and application domains to the field. Machine learning is sometimes conflated with data mining, where the latter subfield focuses more on exploratory data analysis and is known as unsupervised learning.Within the field of data analytics, machine learning is a method used to devise complex models and algorithms that lend themselves to prediction; in commercial use, this is known as predictive analytics. These analytical models allow researchers, data scientists, engineers, and analysts to \"produce reliable, repeatable decisions and results\" and uncover \"hidden insights\" through learning from historical relationships and trends in the data.\n",
      "\n",
      "\n",
      "== Overview ==\n",
      "Tom M. Mitchell provided a widely quoted, more formal definition of the algorithms studied in the machine learning field: \"A computer program is said to learn from experience E with respect to some class of tasks T and performance measure P if its performance at tasks in T, as measured by P, improves with experience E.\" This definition of the tasks in which machine learning is concerned offers a fundamentally operational definition rather than defining the field in cognitive terms. This follows Alan Turing's proposal in his paper \"Computing Machinery and Intelligence\", in which the question \"Can machines think?\" is replaced with the question \"Can machines do what we (as thinking entities) can do?\". In Turing's proposal the various characteristics that could be possessed by a thinking machine and the various implications in constructing one are exposed.\n",
      "\n",
      "\n",
      "=== Machine learning tasks ===\n",
      "\n",
      "Machine learning tasks are typically classified into several broad categories:\n",
      "\n",
      "Supervised learning:  The computer is presented with example inputs and their desired outputs, given by a \"teacher\", and the goal is to learn a general rule that maps inputs to outputs. As special cases, the input signal can be only partially available, or restricted to special feedback.\n",
      "Semi-supervised learning: The computer is given only an incomplete training signal: a training set with some (often many) of the target outputs missing.\n",
      "Active learning: The computer can only obtain training labels for a limited set of instances (based on a budget), and also has to optimize its choice of objects to acquire labels for. When used interactively, these can be presented to the user for labeling.\n",
      "Unsupervised learning:  No labels are given to the learning algorithm, leaving it on its own to find structure in its input. Unsupervised learning can be a goal in itself (discovering hidden patterns in data) or a means towards an end (feature learning).\n",
      "Reinforcement learning: Data (in form of rewards and punishments) are given only as feedback to the program's actions in a dynamic environment, such as driving a vehicle or playing a game against an opponent.\n",
      "\n",
      "\n",
      "=== Machine learning applications ===\n",
      "\n",
      "Another categorization of machine learning tasks arises when one considers the desired output of a machine-learned system:\n",
      "In classification, inputs are divided into two or more classes, and the learner must produce a model that assigns unseen inputs to one or more (multi-label classification) of these classes. This is typically tackled in a supervised way. Spam filtering is an example of classification, where the inputs are email (or other) messages and the classes are \"spam\" and \"not spam\".\n",
      "In regression, also a supervised problem, the outputs are continuous rather than discrete.\n",
      "In clustering, a set of inputs is to be divided into groups. Unlike in classification, the groups are not known beforehand, making this typically an unsupervised task.\n",
      "Density estimation finds the distribution of inputs in some space.\n",
      "Dimensionality reduction simplifies inputs by mapping them into a lower-dimensional space. Topic modeling is a related problem, where a program is given a list of human language documents and is tasked to find out which documents cover similar topics.Among other categories of machine learning problems, learning to learn learns its own inductive bias based on previous experience. Developmental learning, elaborated for robot learning, generates its own sequences (also called curriculum) of learning situations to cumulatively acquire repertoires of novel skills through autonomous self-exploration and social interaction with human teachers and using guidance mechanisms such as active learning, maturation, motor synergies, and imitation.\n",
      "\n",
      "\n",
      "== History and relationships to other fields ==\n",
      "\n",
      "Arthur Samuel, an American pioneer in the field of computer gaming and artificial intelligence, coined the term \"Machine Learning\" in 1959 while at IBM. \n",
      "As a scientific endeavour, machine learning grew out of the quest for artificial intelligence. Already in the early days of AI as an academic discipline, some researchers were interested in having machines learn from data. They attempted to approach the problem with various symbolic methods, as well as what were then termed \"neural networks\"; these were mostly perceptrons and other models that were later found to be reinventions of the generalized linear models of statistics. Probabilistic reasoning was also employed, especially in automated medical diagnosis.However, an increasing emphasis on the logical, knowledge-based approach caused a rift between AI and machine learning. Probabilistic systems were plagued by theoretical and practical problems of data acquisition and representation. By 1980, expert systems had come to dominate AI, and statistics was out of favor. Work on symbolic/knowledge-based learning did continue within AI, leading to inductive logic programming, but the more statistical line of research was now outside the field of AI proper, in pattern recognition and information retrieval. Neural networks research had been abandoned by AI and computer science around the same time. This line, too, was continued outside the AI/CS field, as \"connectionism\", by researchers from other disciplines including Hopfield, Rumelhart and Hinton. Their main success came in the mid-1980s with the reinvention of backpropagation.Machine learning, reorganized as a separate field, started to flourish in the 1990s. The field changed its goal from achieving artificial intelligence to tackling solvable problems of a practical nature. It shifted focus away from the symbolic approaches it had inherited from AI, and toward methods and models borrowed from statistics and probability theory. It also benefited from the increasing availability of digitized information, and the ability to distribute it via the Internet.\n",
      "Machine learning and data mining often employ the same methods and overlap significantly, but while machine learning focuses on prediction, based on known properties learned from the training data, data mining focuses on the discovery of (previously) unknown properties in the data (this is the analysis step of knowledge discovery in databases). Data mining uses many machine learning methods, but with different goals; on the other hand, machine learning also employs data mining methods as \"unsupervised learning\" or as a preprocessing step to improve learner accuracy. Much of the confusion between these two research communities (which do often have separate conferences and separate journals, ECML PKDD being a major exception) comes from the basic assumptions they work with: in machine learning, performance is usually evaluated with respect to the ability to reproduce known knowledge, while in knowledge discovery and data mining (KDD) the key task is the discovery of previously unknown knowledge. Evaluated with respect to known knowledge, an uninformed (unsupervised) method will easily be outperformed by other supervised methods, while in a typical KDD task, supervised methods cannot be used due to the unavailability of training data.\n",
      "Machine learning also has intimate ties to optimization: many learning problems are formulated as minimization of some loss function on a training set of examples. Loss functions express the discrepancy between the predictions of the model being trained and the actual problem instances (for example, in classification, one wants to assign a label to instances, and models are trained to correctly predict the pre-assigned labels of a set of examples). The difference between the two fields arises from the goal of generalization: while optimization algorithms can minimize the loss on a training set, machine learning is concerned with minimizing the loss on unseen samples.\n",
      "\n",
      "\n",
      "=== Relation to statistics ===\n",
      "Machine learning and statistics are closely related fields. According to Michael I. Jordan, the ideas of machine learning, from methodological principles to theoretical tools, have had a long pre-history in statistics. He also suggested the term data science as a placeholder to call the overall field.Leo Breiman distinguished two statistical modelling paradigms: data model and algorithmic model, wherein \"algorithmic model\" means more or less the machine learning algorithms like Random forest.\n",
      "Some statisticians have adopted methods from machine learning, leading to a combined field that they call statistical learning.\n",
      "\n",
      "\n",
      "== Theory ==\n",
      "\n",
      "A core objective of a learner is to generalize from its experience. Generalization in this context is the ability of a learning machine to perform accurately on new, unseen examples/tasks after having experienced a learning data set. The training examples come from some generally unknown probability distribution (considered representative of the space of occurrences) and the learner has to build a general model about this space that enables it to produce sufficiently accurate predictions in new cases.\n",
      "The computational analysis of machine learning algorithms and their performance is a branch of theoretical computer science known as computational learning theory. Because training sets are finite and the future is uncertain, learning theory usually does not yield guarantees of the performance of algorithms. Instead, probabilistic bounds on the performance are quite common. The bias–variance decomposition is one way to quantify generalization error.\n",
      "For the best performance in the context of generalization, the complexity of the hypothesis should match the complexity of the function underlying the data. If the hypothesis is less complex than the function, then the model has underfit the data. If the complexity of the model is increased in response, then the training error decreases. But if the hypothesis is too complex, then the model is subject to overfitting and generalization will be poorer.In addition to performance bounds, computational learning theorists study the time complexity and feasibility of learning. In computational learning theory, a computation is considered feasible if it can be done in polynomial time. There are two kinds of time complexity results. Positive results show that a certain class of functions can be learned in polynomial time. Negative results show that certain classes cannot be learned in polynomial time.\n",
      "\n",
      "\n",
      "== Approaches ==\n",
      "\n",
      "\n",
      "=== Decision tree learning ===\n",
      "\n",
      "Decision tree learning uses a decision tree as a predictive model, which maps observations about an item to conclusions about the item's target value.\n",
      "\n",
      "\n",
      "=== Association rule learning ===\n",
      "\n",
      "Association rule learning is a method for discovering interesting relations between variables in large databases.\n",
      "\n",
      "\n",
      "=== Artificial neural networks ===\n",
      "\n",
      "An artificial neural network (ANN) learning algorithm, usually called \"neural network\" (NN), is a learning algorithm that is vaguely inspired by biological neural networks. Computations are structured in terms of an interconnected group of artificial neurons, processing information using a connectionist approach to computation. Modern neural networks are non-linear statistical data modeling tools. They are usually used to model complex relationships between inputs and outputs, to find patterns in data, or to capture the statistical structure in an unknown joint probability distribution between observed variables.\n",
      "\n",
      "\n",
      "==== Deep learning ====\n",
      "\n",
      "Falling hardware prices and the development of GPUs for personal use in the last few years have contributed to the development of the concept of deep learning which consists of multiple hidden layers in an artificial neural network. This approach tries to model the way the human brain processes light and sound into vision and hearing. Some successful applications of deep learning are computer vision and speech recognition.\n",
      "\n",
      "\n",
      "=== Inductive logic programming ===\n",
      "\n",
      "Inductive logic programming (ILP) is an approach to rule learning using logic programming as a uniform representation for input examples, background knowledge, and hypotheses. Given an encoding of the known background knowledge and a set of examples represented as a logical database of facts, an ILP system will derive a hypothesized logic program that entails all positive and no negative examples. Inductive programming is a related field that considers any kind of programming languages for representing hypotheses (and not only logic programming), such as functional programs.\n",
      "\n",
      "\n",
      "=== Support vector machines ===\n",
      "\n",
      "Support vector machines (SVMs) are a set of related supervised learning methods used for classification and regression. Given a set of training examples, each marked as belonging to one of two categories, an SVM training algorithm builds a model that predicts whether a new example falls into one category or the other.\n",
      "\n",
      "\n",
      "=== Clustering ===\n",
      "\n",
      "Cluster analysis is the assignment of a set of observations into subsets (called clusters) so that observations within the same cluster are similar according to some predesignated criterion or criteria, while observations drawn from different clusters are dissimilar. Different clustering techniques make different assumptions on the structure of the data, often defined by some similarity metric and evaluated for example by internal compactness (similarity between members of the same cluster) and separation between different clusters. Other methods are based on estimated density and graph connectivity.\n",
      "Clustering is a method of unsupervised learning, and a common technique for statistical data analysis.\n",
      "\n",
      "\n",
      "=== Bayesian networks ===\n",
      "\n",
      "A Bayesian network, belief network or directed acyclic graphical model is a probabilistic graphical model that represents a set of random variables and their conditional independencies via a directed acyclic graph (DAG). For example, a Bayesian network could represent the probabilistic relationships between diseases and symptoms. Given symptoms, the network can be used to compute the probabilities of the presence of various diseases. Efficient algorithms exist that perform inference and learning.\n",
      "\n",
      "\n",
      "=== Representation learning ===\n",
      "\n",
      "Several learning algorithms, mostly unsupervised learning algorithms, aim at discovering better representations of the inputs provided during training. Classical examples include principal components analysis and cluster analysis. Representation learning algorithms often attempt to preserve the information in their input but transform it in a way that makes it useful, often as a pre-processing step before performing classification or predictions, allowing reconstruction of the inputs coming from the unknown data generating distribution, while not being necessarily faithful for configurations that are implausible under that distribution.\n",
      "Manifold learning algorithms attempt to do so under the constraint that the learned representation is low-dimensional. Sparse coding algorithms attempt to do so under the constraint that the learned representation is sparse (has many zeros). Multilinear subspace learning algorithms aim to learn low-dimensional representations directly from tensor representations for multidimensional data, without reshaping them into (high-dimensional) vectors. Deep learning algorithms discover multiple levels of representation, or a hierarchy of features, with higher-level, more abstract features defined in terms of (or generating) lower-level features. It has been argued that an intelligent machine is one that learns a representation that disentangles the underlying factors of variation that explain the observed data.\n",
      "\n",
      "\n",
      "=== Similarity and metric learning ===\n",
      "\n",
      "In this problem, the learning machine is given pairs of examples that are considered similar and pairs of less similar objects. It then needs to learn a similarity function (or a distance metric function) that can predict if new objects are similar. It is sometimes used in Recommendation systems.\n",
      "\n",
      "\n",
      "=== Sparse dictionary learning ===\n",
      "\n",
      "In this method, a datum is represented as a linear combination of basis functions, and the coefficients are assumed to be sparse. Let x be a d-dimensional datum, D be a d by n matrix, where each column of D represents a basis function. r is the coefficient to represent x using D. Mathematically, sparse dictionary learning means solving \n",
      "  \n",
      "    \n",
      "      \n",
      "        x\n",
      "        ≈\n",
      "        D\n",
      "        r\n",
      "      \n",
      "    \n",
      "    {\\displaystyle x\\approx Dr}\n",
      "   where r is sparse. Generally speaking, n is assumed to be larger than d to allow the freedom for a sparse representation.\n",
      "Learning a dictionary along with sparse representations is strongly NP-hard and also difficult to solve approximately. A popular heuristic method for sparse dictionary learning is K-SVD.\n",
      "Sparse dictionary learning has been applied in several contexts. In classification, the problem is to determine which classes a previously unseen datum belongs to. Suppose a dictionary for each class has already been built. Then a new datum is associated with the class such that it's best sparsely represented by the corresponding dictionary. Sparse dictionary learning has also been applied in image de-noising. The key idea is that a clean image patch can be sparsely represented by an image dictionary, but the noise cannot.\n",
      "\n",
      "\n",
      "=== Genetic algorithms ===\n",
      "\n",
      "A genetic algorithm (GA) is a search heuristic that mimics the process of natural selection, and uses methods such as mutation and crossover to generate new genotype in the hope of finding good solutions to a given problem. In machine learning, genetic algorithms found some uses in the 1980s and 1990s. Conversely, machine learning techniques have been used to improve the performance of genetic and evolutionary algorithms.\n",
      "\n",
      "\n",
      "=== Rule-based machine learning ===\n",
      "Rule-based machine learning is a general term for any machine learning method that identifies, learns, or evolves \"rules\" to store, manipulate or apply, knowledge.  The defining characteristic of a rule-based machine learner is the identification and utilization of a set of relational rules that collectively represent the knowledge captured by the system.  This is in contrast to other machine learners that commonly identify a singular model that can be universally applied to any instance in order to make a prediction. Rule-based machine learning approaches include learning classifier systems, association rule learning, and artificial immune systems.\n",
      "\n",
      "\n",
      "==== Learning classifier systems ====\n",
      "\n",
      "Learning classifier systems (LCS) are a family of rule-based machine learning algorithms that combine a discovery component (e.g. typically a genetic algorithm) with a learning component (performing either supervised learning, reinforcement learning, or unsupervised learning). They seek to identify a set of context-dependent rules that collectively store and apply knowledge in a piecewise manner in order to make predictions.\n",
      "\n",
      "\n",
      "== Applications ==\n",
      "Applications for machine learning include:\n",
      "\n",
      "In 2006, the online movie company Netflix held the first \"Netflix Prize\" competition to find a program to better predict user preferences and improve the accuracy on its existing Cinematch movie recommendation algorithm by at least 10%.  A joint team made up of researchers from AT&T Labs-Research in collaboration with the teams Big Chaos and Pragmatic Theory built an ensemble model to win the Grand Prize in 2009 for $1 million. Shortly after the prize was awarded, Netflix realized that viewers' ratings were not the best indicators of their viewing patterns (\"everything is a recommendation\") and they changed their recommendation engine accordingly.In 2010 The Wall Street Journal wrote about the firm Rebellion Research and their use of Machine Learning to predict the financial crisis. \n",
      "In 2012, co-founder of Sun Microsystems Vinod Khosla predicted that 80% of medical doctors jobs would be lost in the next two decades to automated machine learning medical diagnostic software.In 2014, it has been reported that a machine learning algorithm has been applied in Art History to study fine art paintings, and that it may have revealed previously unrecognized influences between artists.\n",
      "\n",
      "\n",
      "== Limitations ==\n",
      "Although machine learning has been transformative in some fields, effective machine learning is difficult because finding patterns is hard and often not enough training data are available; as a result, many machine-learning programs often fail to deliver the expected value. Reasons for this are numerous: lack of (suitable) data, lack of access to the data, data bias, privacy problems, badly chosen tasks and algorithms, wrong tools and people, lack of resources, and evaluation problems.In 2018, a self-driving car from Uber failed to detect a pedestrian, who got killed in the accident. Attempts to use machine learning in healthcare with the IBM Watson system failed to deliver even after years of time and billions of investment.\n",
      "\n",
      "\n",
      "=== Bias ===\n",
      "\n",
      "Machine learning approaches in particular can suffer from different data biases. A machine learning system trained on your current customers only may not be able to predict the needs of new customer groups that are not represented in the training data. When trained on man-made data, machine learning is likely to pick up the same constitutional and unconscious biases already present in society. Language models learned from data have been shown to contain human-like biases. Machine learning systems used for criminal risk assessment have been found to be biased against black people. In 2015, Google photos would often tag black people as gorillas, and in 2018 this still was not well resolved, but Google reportedly was still using the workaround to remove all gorilla from the training data, and thus was not able to recognize real gorillas at all. Similar issues with recognizing non-white people have been found in many other systems. In 2016, Microsoft tested a chatbot that learned from Twitter, and it quickly picked up racist and sexist language. Because of such challenges, the effective use of machine learning may take longer to be adopted in other domains.\n",
      "\n",
      "\n",
      "== Model assessments ==\n",
      "Classification machine learning models can be validated by accuracy estimation techniques like the Holdout method, which splits the data in a training and test set (conventionally 2/3 training set and 1/3 test set designation) and evaluates the performance of the training model on the test set. In comparison, the N-fold-cross-validation method randomly splits the data in k subsets where the k-1 instances of the data are used to train the model while the kth instance is used to test the predictive ability of the training model. In addition to the holdout and cross-validation methods, bootstrap, which samples n instances with replacement from the dataset, can be used to assess model accuracy.In addition to overall accuracy, investigators frequently report sensitivity and specificity meaning True Positive Rate (TPR) and True Negative Rate (TNR) respectively. Similarly, investigators sometimes report the False Positive Rate (FPR) as well as the False Negative Rate (FNR). However, these rates are ratios that fail to reveal their numerators and denominators. The Total Operating Characteristic (TOC) is an effective method to express a model's diagnostic ability. TOC shows the numerators and denominators of the previously mentioned rates, thus TOC provides more information than the commonly used Receiver Operating Characteristic (ROC) and ROC's associated Area Under the Curve (AUC).\n",
      "\n",
      "\n",
      "== Ethics ==\n",
      "Machine learning poses a host of ethical questions. Systems which are trained on datasets collected with biases may exhibit these biases upon use (algorithmic bias), thus digitizing cultural prejudices. For example, using job hiring data from a firm with racist hiring policies may lead to a machine learning system duplicating the bias by scoring job applicants against similarity to previous successful applicants. Responsible collection of data and documentation of algorithmic rules used by a system thus is a critical part of machine learning.\n",
      "Because language contains biases, machines trained on language corpora will necessarily also learn bias.Other forms of ethical challenges, not related to personal biases, are more seen in health care. There are concerns among health care professionals that these systems might not be designed in the public's interest, but as income generating machines. This is especially true in the United States where there is a perpetual ethical dilemma of improving health care, but also increasing profits. For example, the algorithms could be designed to provide patients with unnecessary tests or medication in which the algorithm's proprietary owners hold stakes in. There is huge potential for machine learning in health care to provide professionals a great tool to diagnose, medicate, and even plan recovery paths for patients, but this will not happen until the personal biases mentioned previously, and these \"greed\" biases are addressed.\n",
      "\n",
      "\n",
      "== Software ==\n",
      "Software suites containing a variety of machine learning algorithms include the following :\n",
      "\n",
      "\n",
      "=== Free and open-source software ===\n",
      "\n",
      "\n",
      "=== Proprietary software with free and open-source editions ===\n",
      "\n",
      "\n",
      "=== Proprietary software ===\n",
      "\n",
      "\n",
      "== Journals ==\n",
      "Journal of Machine Learning Research\n",
      "Machine Learning\n",
      "Neural Computation\n",
      "\n",
      "\n",
      "== Conferences ==\n",
      "Conference on Neural Information Processing Systems\n",
      "International Conference on Machine Learning\n",
      "\n",
      "\n",
      "== See also ==\n",
      "\n",
      "\n",
      "== References ==\n",
      "\n",
      "\n",
      "== Further reading ==\n",
      "\n",
      "\n",
      "== External links ==\n",
      "International Machine Learning Society\n",
      "Popular online course by Andrew Ng, at Coursera. It uses GNU Octave. The course is a free version of Stanford University's actual course taught by Ng, whose lectures are also available for free.\n",
      "mloss is an academic database of open-source machine learning software.\n",
      "Machine Learning Crash Course by Google. This is a free course on machine learning through the use of TensorFlow.\n",
      "Machine Learning with Python Course\n"
     ]
    }
   ],
   "source": [
    "## Usage: \n",
    "\n",
    "from wikipedia import search, page\n",
    "titles = search(\"Machine Learning\")\n",
    "wikipage = page(titles[0])\n",
    "print (wikipage.content)"
   ]
  },
  {
   "cell_type": "markdown",
   "metadata": {},
   "source": [
    "### Print the top 10 titles for the keyword `Machine Learning`"
   ]
  },
  {
   "cell_type": "code",
   "execution_count": 7,
   "metadata": {},
   "outputs": [
    {
     "data": {
      "text/plain": [
       "['Machine learning',\n",
       " 'Active learning (machine learning)',\n",
       " 'List of datasets for machine learning research',\n",
       " 'Boosting (machine learning)',\n",
       " 'Deep learning',\n",
       " 'Outline of machine learning',\n",
       " 'Support vector machine',\n",
       " 'Supervised learning',\n",
       " 'Extreme learning machine',\n",
       " 'Learning']"
      ]
     },
     "execution_count": 7,
     "metadata": {},
     "output_type": "execute_result"
    }
   ],
   "source": [
    "titles[0:10]"
   ]
  },
  {
   "cell_type": "markdown",
   "metadata": {},
   "source": [
    "### Get the content from the first title from the above obtained 10 titles."
   ]
  },
  {
   "cell_type": "code",
   "execution_count": 8,
   "metadata": {},
   "outputs": [
    {
     "name": "stdout",
     "output_type": "stream",
     "text": [
      "Machine learning (ML) is a field of artificial intelligence that uses statistical techniques to give computer systems the ability to \"learn\" (e.g., progressively improve performance on a specific task) from data, without being explicitly programmed.The name machine learning was coined in 1959 by Arthur Samuel. Machine learning explores the study and construction of algorithms that can learn from and make predictions on data – such algorithms overcome following strictly static program instructions by making data-driven predictions or decisions, through building a model from sample inputs. Machine learning is employed in a range of computing tasks where designing and programming explicit algorithms with good performance is difficult or infeasible; example applications include email filtering, detection of network intruders, and computer vision.\n",
      "Machine learning is closely related to (and often overlaps with) computational statistics, which also focuses on prediction-making through the use of computers. It has strong ties to mathematical optimization, which delivers methods, theory and application domains to the field. Machine learning is sometimes conflated with data mining, where the latter subfield focuses more on exploratory data analysis and is known as unsupervised learning.Within the field of data analytics, machine learning is a method used to devise complex models and algorithms that lend themselves to prediction; in commercial use, this is known as predictive analytics. These analytical models allow researchers, data scientists, engineers, and analysts to \"produce reliable, repeatable decisions and results\" and uncover \"hidden insights\" through learning from historical relationships and trends in the data.\n",
      "\n",
      "\n",
      "== Overview ==\n",
      "Tom M. Mitchell provided a widely quoted, more formal definition of the algorithms studied in the machine learning field: \"A computer program is said to learn from experience E with respect to some class of tasks T and performance measure P if its performance at tasks in T, as measured by P, improves with experience E.\" This definition of the tasks in which machine learning is concerned offers a fundamentally operational definition rather than defining the field in cognitive terms. This follows Alan Turing's proposal in his paper \"Computing Machinery and Intelligence\", in which the question \"Can machines think?\" is replaced with the question \"Can machines do what we (as thinking entities) can do?\". In Turing's proposal the various characteristics that could be possessed by a thinking machine and the various implications in constructing one are exposed.\n",
      "\n",
      "\n",
      "=== Machine learning tasks ===\n",
      "\n",
      "Machine learning tasks are typically classified into several broad categories:\n",
      "\n",
      "Supervised learning:  The computer is presented with example inputs and their desired outputs, given by a \"teacher\", and the goal is to learn a general rule that maps inputs to outputs. As special cases, the input signal can be only partially available, or restricted to special feedback.\n",
      "Semi-supervised learning: The computer is given only an incomplete training signal: a training set with some (often many) of the target outputs missing.\n",
      "Active learning: The computer can only obtain training labels for a limited set of instances (based on a budget), and also has to optimize its choice of objects to acquire labels for. When used interactively, these can be presented to the user for labeling.\n",
      "Unsupervised learning:  No labels are given to the learning algorithm, leaving it on its own to find structure in its input. Unsupervised learning can be a goal in itself (discovering hidden patterns in data) or a means towards an end (feature learning).\n",
      "Reinforcement learning: Data (in form of rewards and punishments) are given only as feedback to the program's actions in a dynamic environment, such as driving a vehicle or playing a game against an opponent.\n",
      "\n",
      "\n",
      "=== Machine learning applications ===\n",
      "\n",
      "Another categorization of machine learning tasks arises when one considers the desired output of a machine-learned system:\n",
      "In classification, inputs are divided into two or more classes, and the learner must produce a model that assigns unseen inputs to one or more (multi-label classification) of these classes. This is typically tackled in a supervised way. Spam filtering is an example of classification, where the inputs are email (or other) messages and the classes are \"spam\" and \"not spam\".\n",
      "In regression, also a supervised problem, the outputs are continuous rather than discrete.\n",
      "In clustering, a set of inputs is to be divided into groups. Unlike in classification, the groups are not known beforehand, making this typically an unsupervised task.\n",
      "Density estimation finds the distribution of inputs in some space.\n",
      "Dimensionality reduction simplifies inputs by mapping them into a lower-dimensional space. Topic modeling is a related problem, where a program is given a list of human language documents and is tasked to find out which documents cover similar topics.Among other categories of machine learning problems, learning to learn learns its own inductive bias based on previous experience. Developmental learning, elaborated for robot learning, generates its own sequences (also called curriculum) of learning situations to cumulatively acquire repertoires of novel skills through autonomous self-exploration and social interaction with human teachers and using guidance mechanisms such as active learning, maturation, motor synergies, and imitation.\n",
      "\n",
      "\n",
      "== History and relationships to other fields ==\n",
      "\n",
      "Arthur Samuel, an American pioneer in the field of computer gaming and artificial intelligence, coined the term \"Machine Learning\" in 1959 while at IBM. \n",
      "As a scientific endeavour, machine learning grew out of the quest for artificial intelligence. Already in the early days of AI as an academic discipline, some researchers were interested in having machines learn from data. They attempted to approach the problem with various symbolic methods, as well as what were then termed \"neural networks\"; these were mostly perceptrons and other models that were later found to be reinventions of the generalized linear models of statistics. Probabilistic reasoning was also employed, especially in automated medical diagnosis.However, an increasing emphasis on the logical, knowledge-based approach caused a rift between AI and machine learning. Probabilistic systems were plagued by theoretical and practical problems of data acquisition and representation. By 1980, expert systems had come to dominate AI, and statistics was out of favor. Work on symbolic/knowledge-based learning did continue within AI, leading to inductive logic programming, but the more statistical line of research was now outside the field of AI proper, in pattern recognition and information retrieval. Neural networks research had been abandoned by AI and computer science around the same time. This line, too, was continued outside the AI/CS field, as \"connectionism\", by researchers from other disciplines including Hopfield, Rumelhart and Hinton. Their main success came in the mid-1980s with the reinvention of backpropagation.Machine learning, reorganized as a separate field, started to flourish in the 1990s. The field changed its goal from achieving artificial intelligence to tackling solvable problems of a practical nature. It shifted focus away from the symbolic approaches it had inherited from AI, and toward methods and models borrowed from statistics and probability theory. It also benefited from the increasing availability of digitized information, and the ability to distribute it via the Internet.\n",
      "Machine learning and data mining often employ the same methods and overlap significantly, but while machine learning focuses on prediction, based on known properties learned from the training data, data mining focuses on the discovery of (previously) unknown properties in the data (this is the analysis step of knowledge discovery in databases). Data mining uses many machine learning methods, but with different goals; on the other hand, machine learning also employs data mining methods as \"unsupervised learning\" or as a preprocessing step to improve learner accuracy. Much of the confusion between these two research communities (which do often have separate conferences and separate journals, ECML PKDD being a major exception) comes from the basic assumptions they work with: in machine learning, performance is usually evaluated with respect to the ability to reproduce known knowledge, while in knowledge discovery and data mining (KDD) the key task is the discovery of previously unknown knowledge. Evaluated with respect to known knowledge, an uninformed (unsupervised) method will easily be outperformed by other supervised methods, while in a typical KDD task, supervised methods cannot be used due to the unavailability of training data.\n",
      "Machine learning also has intimate ties to optimization: many learning problems are formulated as minimization of some loss function on a training set of examples. Loss functions express the discrepancy between the predictions of the model being trained and the actual problem instances (for example, in classification, one wants to assign a label to instances, and models are trained to correctly predict the pre-assigned labels of a set of examples). The difference between the two fields arises from the goal of generalization: while optimization algorithms can minimize the loss on a training set, machine learning is concerned with minimizing the loss on unseen samples.\n",
      "\n",
      "\n",
      "=== Relation to statistics ===\n",
      "Machine learning and statistics are closely related fields. According to Michael I. Jordan, the ideas of machine learning, from methodological principles to theoretical tools, have had a long pre-history in statistics. He also suggested the term data science as a placeholder to call the overall field.Leo Breiman distinguished two statistical modelling paradigms: data model and algorithmic model, wherein \"algorithmic model\" means more or less the machine learning algorithms like Random forest.\n",
      "Some statisticians have adopted methods from machine learning, leading to a combined field that they call statistical learning.\n",
      "\n",
      "\n",
      "== Theory ==\n",
      "\n",
      "A core objective of a learner is to generalize from its experience. Generalization in this context is the ability of a learning machine to perform accurately on new, unseen examples/tasks after having experienced a learning data set. The training examples come from some generally unknown probability distribution (considered representative of the space of occurrences) and the learner has to build a general model about this space that enables it to produce sufficiently accurate predictions in new cases.\n",
      "The computational analysis of machine learning algorithms and their performance is a branch of theoretical computer science known as computational learning theory. Because training sets are finite and the future is uncertain, learning theory usually does not yield guarantees of the performance of algorithms. Instead, probabilistic bounds on the performance are quite common. The bias–variance decomposition is one way to quantify generalization error.\n",
      "For the best performance in the context of generalization, the complexity of the hypothesis should match the complexity of the function underlying the data. If the hypothesis is less complex than the function, then the model has underfit the data. If the complexity of the model is increased in response, then the training error decreases. But if the hypothesis is too complex, then the model is subject to overfitting and generalization will be poorer.In addition to performance bounds, computational learning theorists study the time complexity and feasibility of learning. In computational learning theory, a computation is considered feasible if it can be done in polynomial time. There are two kinds of time complexity results. Positive results show that a certain class of functions can be learned in polynomial time. Negative results show that certain classes cannot be learned in polynomial time.\n",
      "\n",
      "\n",
      "== Approaches ==\n",
      "\n",
      "\n",
      "=== Decision tree learning ===\n",
      "\n",
      "Decision tree learning uses a decision tree as a predictive model, which maps observations about an item to conclusions about the item's target value.\n",
      "\n",
      "\n",
      "=== Association rule learning ===\n",
      "\n",
      "Association rule learning is a method for discovering interesting relations between variables in large databases.\n",
      "\n",
      "\n",
      "=== Artificial neural networks ===\n",
      "\n",
      "An artificial neural network (ANN) learning algorithm, usually called \"neural network\" (NN), is a learning algorithm that is vaguely inspired by biological neural networks. Computations are structured in terms of an interconnected group of artificial neurons, processing information using a connectionist approach to computation. Modern neural networks are non-linear statistical data modeling tools. They are usually used to model complex relationships between inputs and outputs, to find patterns in data, or to capture the statistical structure in an unknown joint probability distribution between observed variables.\n",
      "\n",
      "\n",
      "==== Deep learning ====\n",
      "\n",
      "Falling hardware prices and the development of GPUs for personal use in the last few years have contributed to the development of the concept of deep learning which consists of multiple hidden layers in an artificial neural network. This approach tries to model the way the human brain processes light and sound into vision and hearing. Some successful applications of deep learning are computer vision and speech recognition.\n",
      "\n",
      "\n",
      "=== Inductive logic programming ===\n",
      "\n",
      "Inductive logic programming (ILP) is an approach to rule learning using logic programming as a uniform representation for input examples, background knowledge, and hypotheses. Given an encoding of the known background knowledge and a set of examples represented as a logical database of facts, an ILP system will derive a hypothesized logic program that entails all positive and no negative examples. Inductive programming is a related field that considers any kind of programming languages for representing hypotheses (and not only logic programming), such as functional programs.\n",
      "\n",
      "\n",
      "=== Support vector machines ===\n",
      "\n",
      "Support vector machines (SVMs) are a set of related supervised learning methods used for classification and regression. Given a set of training examples, each marked as belonging to one of two categories, an SVM training algorithm builds a model that predicts whether a new example falls into one category or the other.\n",
      "\n",
      "\n",
      "=== Clustering ===\n",
      "\n",
      "Cluster analysis is the assignment of a set of observations into subsets (called clusters) so that observations within the same cluster are similar according to some predesignated criterion or criteria, while observations drawn from different clusters are dissimilar. Different clustering techniques make different assumptions on the structure of the data, often defined by some similarity metric and evaluated for example by internal compactness (similarity between members of the same cluster) and separation between different clusters. Other methods are based on estimated density and graph connectivity.\n",
      "Clustering is a method of unsupervised learning, and a common technique for statistical data analysis.\n",
      "\n",
      "\n",
      "=== Bayesian networks ===\n",
      "\n",
      "A Bayesian network, belief network or directed acyclic graphical model is a probabilistic graphical model that represents a set of random variables and their conditional independencies via a directed acyclic graph (DAG). For example, a Bayesian network could represent the probabilistic relationships between diseases and symptoms. Given symptoms, the network can be used to compute the probabilities of the presence of various diseases. Efficient algorithms exist that perform inference and learning.\n",
      "\n",
      "\n",
      "=== Representation learning ===\n",
      "\n",
      "Several learning algorithms, mostly unsupervised learning algorithms, aim at discovering better representations of the inputs provided during training. Classical examples include principal components analysis and cluster analysis. Representation learning algorithms often attempt to preserve the information in their input but transform it in a way that makes it useful, often as a pre-processing step before performing classification or predictions, allowing reconstruction of the inputs coming from the unknown data generating distribution, while not being necessarily faithful for configurations that are implausible under that distribution.\n",
      "Manifold learning algorithms attempt to do so under the constraint that the learned representation is low-dimensional. Sparse coding algorithms attempt to do so under the constraint that the learned representation is sparse (has many zeros). Multilinear subspace learning algorithms aim to learn low-dimensional representations directly from tensor representations for multidimensional data, without reshaping them into (high-dimensional) vectors. Deep learning algorithms discover multiple levels of representation, or a hierarchy of features, with higher-level, more abstract features defined in terms of (or generating) lower-level features. It has been argued that an intelligent machine is one that learns a representation that disentangles the underlying factors of variation that explain the observed data.\n",
      "\n",
      "\n",
      "=== Similarity and metric learning ===\n",
      "\n",
      "In this problem, the learning machine is given pairs of examples that are considered similar and pairs of less similar objects. It then needs to learn a similarity function (or a distance metric function) that can predict if new objects are similar. It is sometimes used in Recommendation systems.\n",
      "\n",
      "\n",
      "=== Sparse dictionary learning ===\n",
      "\n",
      "In this method, a datum is represented as a linear combination of basis functions, and the coefficients are assumed to be sparse. Let x be a d-dimensional datum, D be a d by n matrix, where each column of D represents a basis function. r is the coefficient to represent x using D. Mathematically, sparse dictionary learning means solving \n",
      "  \n",
      "    \n",
      "      \n",
      "        x\n",
      "        ≈\n",
      "        D\n",
      "        r\n",
      "      \n",
      "    \n",
      "    {\\displaystyle x\\approx Dr}\n",
      "   where r is sparse. Generally speaking, n is assumed to be larger than d to allow the freedom for a sparse representation.\n",
      "Learning a dictionary along with sparse representations is strongly NP-hard and also difficult to solve approximately. A popular heuristic method for sparse dictionary learning is K-SVD.\n",
      "Sparse dictionary learning has been applied in several contexts. In classification, the problem is to determine which classes a previously unseen datum belongs to. Suppose a dictionary for each class has already been built. Then a new datum is associated with the class such that it's best sparsely represented by the corresponding dictionary. Sparse dictionary learning has also been applied in image de-noising. The key idea is that a clean image patch can be sparsely represented by an image dictionary, but the noise cannot.\n",
      "\n",
      "\n",
      "=== Genetic algorithms ===\n",
      "\n",
      "A genetic algorithm (GA) is a search heuristic that mimics the process of natural selection, and uses methods such as mutation and crossover to generate new genotype in the hope of finding good solutions to a given problem. In machine learning, genetic algorithms found some uses in the 1980s and 1990s. Conversely, machine learning techniques have been used to improve the performance of genetic and evolutionary algorithms.\n",
      "\n",
      "\n",
      "=== Rule-based machine learning ===\n",
      "Rule-based machine learning is a general term for any machine learning method that identifies, learns, or evolves \"rules\" to store, manipulate or apply, knowledge.  The defining characteristic of a rule-based machine learner is the identification and utilization of a set of relational rules that collectively represent the knowledge captured by the system.  This is in contrast to other machine learners that commonly identify a singular model that can be universally applied to any instance in order to make a prediction. Rule-based machine learning approaches include learning classifier systems, association rule learning, and artificial immune systems.\n",
      "\n",
      "\n",
      "==== Learning classifier systems ====\n",
      "\n",
      "Learning classifier systems (LCS) are a family of rule-based machine learning algorithms that combine a discovery component (e.g. typically a genetic algorithm) with a learning component (performing either supervised learning, reinforcement learning, or unsupervised learning). They seek to identify a set of context-dependent rules that collectively store and apply knowledge in a piecewise manner in order to make predictions.\n",
      "\n",
      "\n",
      "== Applications ==\n",
      "Applications for machine learning include:\n",
      "\n",
      "In 2006, the online movie company Netflix held the first \"Netflix Prize\" competition to find a program to better predict user preferences and improve the accuracy on its existing Cinematch movie recommendation algorithm by at least 10%.  A joint team made up of researchers from AT&T Labs-Research in collaboration with the teams Big Chaos and Pragmatic Theory built an ensemble model to win the Grand Prize in 2009 for $1 million. Shortly after the prize was awarded, Netflix realized that viewers' ratings were not the best indicators of their viewing patterns (\"everything is a recommendation\") and they changed their recommendation engine accordingly.In 2010 The Wall Street Journal wrote about the firm Rebellion Research and their use of Machine Learning to predict the financial crisis. \n",
      "In 2012, co-founder of Sun Microsystems Vinod Khosla predicted that 80% of medical doctors jobs would be lost in the next two decades to automated machine learning medical diagnostic software.In 2014, it has been reported that a machine learning algorithm has been applied in Art History to study fine art paintings, and that it may have revealed previously unrecognized influences between artists.\n",
      "\n",
      "\n",
      "== Limitations ==\n",
      "Although machine learning has been transformative in some fields, effective machine learning is difficult because finding patterns is hard and often not enough training data are available; as a result, many machine-learning programs often fail to deliver the expected value. Reasons for this are numerous: lack of (suitable) data, lack of access to the data, data bias, privacy problems, badly chosen tasks and algorithms, wrong tools and people, lack of resources, and evaluation problems.In 2018, a self-driving car from Uber failed to detect a pedestrian, who got killed in the accident. Attempts to use machine learning in healthcare with the IBM Watson system failed to deliver even after years of time and billions of investment.\n",
      "\n",
      "\n",
      "=== Bias ===\n",
      "\n",
      "Machine learning approaches in particular can suffer from different data biases. A machine learning system trained on your current customers only may not be able to predict the needs of new customer groups that are not represented in the training data. When trained on man-made data, machine learning is likely to pick up the same constitutional and unconscious biases already present in society. Language models learned from data have been shown to contain human-like biases. Machine learning systems used for criminal risk assessment have been found to be biased against black people. In 2015, Google photos would often tag black people as gorillas, and in 2018 this still was not well resolved, but Google reportedly was still using the workaround to remove all gorilla from the training data, and thus was not able to recognize real gorillas at all. Similar issues with recognizing non-white people have been found in many other systems. In 2016, Microsoft tested a chatbot that learned from Twitter, and it quickly picked up racist and sexist language. Because of such challenges, the effective use of machine learning may take longer to be adopted in other domains.\n",
      "\n",
      "\n",
      "== Model assessments ==\n",
      "Classification machine learning models can be validated by accuracy estimation techniques like the Holdout method, which splits the data in a training and test set (conventionally 2/3 training set and 1/3 test set designation) and evaluates the performance of the training model on the test set. In comparison, the N-fold-cross-validation method randomly splits the data in k subsets where the k-1 instances of the data are used to train the model while the kth instance is used to test the predictive ability of the training model. In addition to the holdout and cross-validation methods, bootstrap, which samples n instances with replacement from the dataset, can be used to assess model accuracy.In addition to overall accuracy, investigators frequently report sensitivity and specificity meaning True Positive Rate (TPR) and True Negative Rate (TNR) respectively. Similarly, investigators sometimes report the False Positive Rate (FPR) as well as the False Negative Rate (FNR). However, these rates are ratios that fail to reveal their numerators and denominators. The Total Operating Characteristic (TOC) is an effective method to express a model's diagnostic ability. TOC shows the numerators and denominators of the previously mentioned rates, thus TOC provides more information than the commonly used Receiver Operating Characteristic (ROC) and ROC's associated Area Under the Curve (AUC).\n",
      "\n",
      "\n",
      "== Ethics ==\n",
      "Machine learning poses a host of ethical questions. Systems which are trained on datasets collected with biases may exhibit these biases upon use (algorithmic bias), thus digitizing cultural prejudices. For example, using job hiring data from a firm with racist hiring policies may lead to a machine learning system duplicating the bias by scoring job applicants against similarity to previous successful applicants. Responsible collection of data and documentation of algorithmic rules used by a system thus is a critical part of machine learning.\n",
      "Because language contains biases, machines trained on language corpora will necessarily also learn bias.Other forms of ethical challenges, not related to personal biases, are more seen in health care. There are concerns among health care professionals that these systems might not be designed in the public's interest, but as income generating machines. This is especially true in the United States where there is a perpetual ethical dilemma of improving health care, but also increasing profits. For example, the algorithms could be designed to provide patients with unnecessary tests or medication in which the algorithm's proprietary owners hold stakes in. There is huge potential for machine learning in health care to provide professionals a great tool to diagnose, medicate, and even plan recovery paths for patients, but this will not happen until the personal biases mentioned previously, and these \"greed\" biases are addressed.\n",
      "\n",
      "\n",
      "== Software ==\n",
      "Software suites containing a variety of machine learning algorithms include the following :\n",
      "\n",
      "\n",
      "=== Free and open-source software ===\n",
      "\n",
      "\n",
      "=== Proprietary software with free and open-source editions ===\n",
      "\n",
      "\n",
      "=== Proprietary software ===\n",
      "\n",
      "\n",
      "== Journals ==\n",
      "Journal of Machine Learning Research\n",
      "Machine Learning\n",
      "Neural Computation\n",
      "\n",
      "\n",
      "== Conferences ==\n",
      "Conference on Neural Information Processing Systems\n",
      "International Conference on Machine Learning\n",
      "\n",
      "\n",
      "== See also ==\n",
      "\n",
      "\n",
      "== References ==\n",
      "\n",
      "\n",
      "== Further reading ==\n",
      "\n",
      "\n",
      "== External links ==\n",
      "International Machine Learning Society\n",
      "Popular online course by Andrew Ng, at Coursera. It uses GNU Octave. The course is a free version of Stanford University's actual course taught by Ng, whose lectures are also available for free.\n",
      "mloss is an academic database of open-source machine learning software.\n",
      "Machine Learning Crash Course by Google. This is a free course on machine learning through the use of TensorFlow.\n",
      "Machine Learning with Python Course\n"
     ]
    }
   ],
   "source": [
    "print(page(titles[0]).content)"
   ]
  },
  {
   "cell_type": "markdown",
   "metadata": {},
   "source": [
    "### Create a list with name `documents` and append all the words in the 10 pages' content using the above 10 titles."
   ]
  },
  {
   "cell_type": "code",
   "execution_count": 9,
   "metadata": {},
   "outputs": [
    {
     "name": "stdout",
     "output_type": "stream",
     "text": [
      "10\n"
     ]
    }
   ],
   "source": [
    "documents = []\n",
    "\n",
    "#Iterate over each review\n",
    "for i in range(10):\n",
    "    pages = page(titles[i])\n",
    "    documents.append(pages.content.split(' '))\n",
    "    \n",
    "print(len(documents))"
   ]
  },
  {
   "cell_type": "code",
   "execution_count": 10,
   "metadata": {},
   "outputs": [
    {
     "name": "stdout",
     "output_type": "stream",
     "text": [
      "['Machine', 'learning', '(ML)', 'is', 'a', 'field', 'of', 'artificial', 'intelligence', 'that', 'uses', 'statistical', 'techniques', 'to', 'give', 'computer', 'systems', 'the', 'ability', 'to', '\"learn\"', '(e.g.,', 'progressively', 'improve', 'performance', 'on', 'a', 'specific', 'task)', 'from', 'data,', 'without', 'being', 'explicitly', 'programmed.The', 'name', 'machine', 'learning', 'was', 'coined', 'in', '1959', 'by', 'Arthur', 'Samuel.', 'Machine', 'learning', 'explores', 'the', 'study', 'and', 'construction', 'of', 'algorithms', 'that', 'can', 'learn', 'from', 'and', 'make', 'predictions', 'on', 'data', '–', 'such', 'algorithms', 'overcome', 'following', 'strictly', 'static', 'program', 'instructions', 'by', 'making', 'data-driven', 'predictions', 'or', 'decisions,', 'through', 'building', 'a', 'model', 'from', 'sample', 'inputs.', 'Machine', 'learning', 'is', 'employed', 'in', 'a', 'range', 'of', 'computing', 'tasks', 'where', 'designing', 'and', 'programming', 'explicit', 'algorithms', 'with', 'good', 'performance', 'is', 'difficult', 'or', 'infeasible;', 'example', 'applications', 'include', 'email', 'filtering,', 'detection', 'of', 'network', 'intruders,', 'and', 'computer', 'vision.\\nMachine', 'learning', 'is', 'closely', 'related', 'to', '(and', 'often', 'overlaps', 'with)', 'computational', 'statistics,', 'which', 'also', 'focuses', 'on', 'prediction-making', 'through', 'the', 'use', 'of', 'computers.', 'It', 'has', 'strong', 'ties', 'to', 'mathematical', 'optimization,', 'which', 'delivers', 'methods,', 'theory', 'and', 'application', 'domains', 'to', 'the', 'field.', 'Machine', 'learning', 'is', 'sometimes', 'conflated', 'with', 'data', 'mining,', 'where', 'the', 'latter', 'subfield', 'focuses', 'more', 'on', 'exploratory', 'data', 'analysis', 'and', 'is', 'known', 'as', 'unsupervised', 'learning.Within', 'the', 'field', 'of', 'data', 'analytics,', 'machine', 'learning', 'is', 'a', 'method', 'used', 'to', 'devise', 'complex', 'models', 'and', 'algorithms', 'that', 'lend', 'themselves', 'to', 'prediction;', 'in', 'commercial', 'use,', 'this', 'is', 'known', 'as', 'predictive', 'analytics.', 'These', 'analytical', 'models', 'allow', 'researchers,', 'data', 'scientists,', 'engineers,', 'and', 'analysts', 'to', '\"produce', 'reliable,', 'repeatable', 'decisions', 'and', 'results\"', 'and', 'uncover', '\"hidden', 'insights\"', 'through', 'learning', 'from', 'historical', 'relationships', 'and', 'trends', 'in', 'the', 'data.\\n\\n\\n==', 'Overview', '==\\nTom', 'M.', 'Mitchell', 'provided', 'a', 'widely', 'quoted,', 'more', 'formal', 'definition', 'of', 'the', 'algorithms', 'studied', 'in', 'the', 'machine', 'learning', 'field:', '\"A', 'computer', 'program', 'is', 'said', 'to', 'learn', 'from', 'experience', 'E', 'with', 'respect', 'to', 'some', 'class', 'of', 'tasks', 'T', 'and', 'performance', 'measure', 'P', 'if', 'its', 'performance', 'at', 'tasks', 'in', 'T,', 'as', 'measured', 'by', 'P,', 'improves', 'with', 'experience', 'E.\"', 'This', 'definition', 'of', 'the', 'tasks', 'in', 'which', 'machine', 'learning', 'is', 'concerned', 'offers', 'a', 'fundamentally', 'operational', 'definition', 'rather', 'than', 'defining', 'the', 'field', 'in', 'cognitive', 'terms.', 'This', 'follows', 'Alan', \"Turing's\", 'proposal', 'in', 'his', 'paper', '\"Computing', 'Machinery', 'and', 'Intelligence\",', 'in', 'which', 'the', 'question', '\"Can', 'machines', 'think?\"', 'is', 'replaced', 'with', 'the', 'question', '\"Can', 'machines', 'do', 'what', 'we', '(as', 'thinking', 'entities)', 'can', 'do?\".', 'In', \"Turing's\", 'proposal', 'the', 'various', 'characteristics', 'that', 'could', 'be', 'possessed', 'by', 'a', 'thinking', 'machine', 'and', 'the', 'various', 'implications', 'in', 'constructing', 'one', 'are', 'exposed.\\n\\n\\n===', 'Machine', 'learning', 'tasks', '===\\n\\nMachine', 'learning', 'tasks', 'are', 'typically', 'classified', 'into', 'several', 'broad', 'categories:\\n\\nSupervised', 'learning:', '', 'The', 'computer', 'is', 'presented', 'with', 'example', 'inputs', 'and', 'their', 'desired', 'outputs,', 'given', 'by', 'a', '\"teacher\",', 'and', 'the', 'goal', 'is', 'to', 'learn', 'a', 'general', 'rule', 'that', 'maps', 'inputs', 'to', 'outputs.', 'As', 'special', 'cases,', 'the', 'input', 'signal', 'can', 'be', 'only', 'partially', 'available,', 'or', 'restricted', 'to', 'special', 'feedback.\\nSemi-supervised', 'learning:', 'The', 'computer', 'is', 'given', 'only', 'an', 'incomplete', 'training', 'signal:', 'a', 'training', 'set', 'with', 'some', '(often', 'many)', 'of', 'the', 'target', 'outputs', 'missing.\\nActive', 'learning:', 'The', 'computer', 'can', 'only', 'obtain', 'training', 'labels', 'for', 'a', 'limited', 'set', 'of', 'instances', '(based', 'on', 'a', 'budget),', 'and', 'also', 'has', 'to', 'optimize', 'its', 'choice', 'of', 'objects', 'to', 'acquire', 'labels', 'for.', 'When', 'used', 'interactively,', 'these', 'can', 'be', 'presented', 'to', 'the', 'user', 'for', 'labeling.\\nUnsupervised', 'learning:', '', 'No', 'labels', 'are', 'given', 'to', 'the', 'learning', 'algorithm,', 'leaving', 'it', 'on', 'its', 'own', 'to', 'find', 'structure', 'in', 'its', 'input.', 'Unsupervised', 'learning', 'can', 'be', 'a', 'goal', 'in', 'itself', '(discovering', 'hidden', 'patterns', 'in', 'data)', 'or', 'a', 'means', 'towards', 'an', 'end', '(feature', 'learning).\\nReinforcement', 'learning:', 'Data', '(in', 'form', 'of', 'rewards', 'and', 'punishments)', 'are', 'given', 'only', 'as', 'feedback', 'to', 'the', \"program's\", 'actions', 'in', 'a', 'dynamic', 'environment,', 'such', 'as', 'driving', 'a', 'vehicle', 'or', 'playing', 'a', 'game', 'against', 'an', 'opponent.\\n\\n\\n===', 'Machine', 'learning', 'applications', '===\\n\\nAnother', 'categorization', 'of', 'machine', 'learning', 'tasks', 'arises', 'when', 'one', 'considers', 'the', 'desired', 'output', 'of', 'a', 'machine-learned', 'system:\\nIn', 'classification,', 'inputs', 'are', 'divided', 'into', 'two', 'or', 'more', 'classes,', 'and', 'the', 'learner', 'must', 'produce', 'a', 'model', 'that', 'assigns', 'unseen', 'inputs', 'to', 'one', 'or', 'more', '(multi-label', 'classification)', 'of', 'these', 'classes.', 'This', 'is', 'typically', 'tackled', 'in', 'a', 'supervised', 'way.', 'Spam', 'filtering', 'is', 'an', 'example', 'of', 'classification,', 'where', 'the', 'inputs', 'are', 'email', '(or', 'other)', 'messages', 'and', 'the', 'classes', 'are', '\"spam\"', 'and', '\"not', 'spam\".\\nIn', 'regression,', 'also', 'a', 'supervised', 'problem,', 'the', 'outputs', 'are', 'continuous', 'rather', 'than', 'discrete.\\nIn', 'clustering,', 'a', 'set', 'of', 'inputs', 'is', 'to', 'be', 'divided', 'into', 'groups.', 'Unlike', 'in', 'classification,', 'the', 'groups', 'are', 'not', 'known', 'beforehand,', 'making', 'this', 'typically', 'an', 'unsupervised', 'task.\\nDensity', 'estimation', 'finds', 'the', 'distribution', 'of', 'inputs', 'in', 'some', 'space.\\nDimensionality', 'reduction', 'simplifies', 'inputs', 'by', 'mapping', 'them', 'into', 'a', 'lower-dimensional', 'space.', 'Topic', 'modeling', 'is', 'a', 'related', 'problem,', 'where', 'a', 'program', 'is', 'given', 'a', 'list', 'of', 'human', 'language', 'documents', 'and', 'is', 'tasked', 'to', 'find', 'out', 'which', 'documents', 'cover', 'similar', 'topics.Among', 'other', 'categories', 'of', 'machine', 'learning', 'problems,', 'learning', 'to', 'learn', 'learns', 'its', 'own', 'inductive', 'bias', 'based', 'on', 'previous', 'experience.', 'Developmental', 'learning,', 'elaborated', 'for', 'robot', 'learning,', 'generates', 'its', 'own', 'sequences', '(also', 'called', 'curriculum)', 'of', 'learning', 'situations', 'to', 'cumulatively', 'acquire', 'repertoires', 'of', 'novel', 'skills', 'through', 'autonomous', 'self-exploration', 'and', 'social', 'interaction', 'with', 'human', 'teachers', 'and', 'using', 'guidance', 'mechanisms', 'such', 'as', 'active', 'learning,', 'maturation,', 'motor', 'synergies,', 'and', 'imitation.\\n\\n\\n==', 'History', 'and', 'relationships', 'to', 'other', 'fields', '==\\n\\nArthur', 'Samuel,', 'an', 'American', 'pioneer', 'in', 'the', 'field', 'of', 'computer', 'gaming', 'and', 'artificial', 'intelligence,', 'coined', 'the', 'term', '\"Machine', 'Learning\"', 'in', '1959', 'while', 'at', 'IBM.', '\\nAs', 'a', 'scientific', 'endeavour,', 'machine', 'learning', 'grew', 'out', 'of', 'the', 'quest', 'for', 'artificial', 'intelligence.', 'Already', 'in', 'the', 'early', 'days', 'of', 'AI', 'as', 'an', 'academic', 'discipline,', 'some', 'researchers', 'were', 'interested', 'in', 'having', 'machines', 'learn', 'from', 'data.', 'They', 'attempted', 'to', 'approach', 'the', 'problem', 'with', 'various', 'symbolic', 'methods,', 'as', 'well', 'as', 'what', 'were', 'then', 'termed', '\"neural', 'networks\";', 'these', 'were', 'mostly', 'perceptrons', 'and', 'other', 'models', 'that', 'were', 'later', 'found', 'to', 'be', 'reinventions', 'of', 'the', 'generalized', 'linear', 'models', 'of', 'statistics.', 'Probabilistic', 'reasoning', 'was', 'also', 'employed,', 'especially', 'in', 'automated', 'medical', 'diagnosis.However,', 'an', 'increasing', 'emphasis', 'on', 'the', 'logical,', 'knowledge-based', 'approach', 'caused', 'a', 'rift', 'between', 'AI', 'and', 'machine', 'learning.', 'Probabilistic', 'systems', 'were', 'plagued', 'by', 'theoretical', 'and', 'practical', 'problems', 'of', 'data', 'acquisition', 'and', 'representation.', 'By', '1980,', 'expert', 'systems', 'had', 'come', 'to', 'dominate', 'AI,', 'and', 'statistics', 'was', 'out', 'of', 'favor.', 'Work', 'on', 'symbolic/knowledge-based', 'learning', 'did', 'continue', 'within', 'AI,', 'leading', 'to', 'inductive', 'logic', 'programming,', 'but', 'the', 'more', 'statistical', 'line', 'of', 'research', 'was', 'now', 'outside', 'the', 'field', 'of', 'AI', 'proper,', 'in', 'pattern', 'recognition', 'and', 'information', 'retrieval.', 'Neural', 'networks', 'research', 'had', 'been', 'abandoned', 'by', 'AI', 'and', 'computer', 'science', 'around', 'the', 'same', 'time.', 'This', 'line,', 'too,', 'was', 'continued', 'outside', 'the', 'AI/CS', 'field,', 'as', '\"connectionism\",', 'by', 'researchers', 'from', 'other', 'disciplines', 'including', 'Hopfield,', 'Rumelhart', 'and', 'Hinton.', 'Their', 'main', 'success', 'came', 'in', 'the', 'mid-1980s', 'with', 'the', 'reinvention', 'of', 'backpropagation.Machine', 'learning,', 'reorganized', 'as', 'a', 'separate', 'field,', 'started', 'to', 'flourish', 'in', 'the', '1990s.', 'The', 'field', 'changed', 'its', 'goal', 'from', 'achieving', 'artificial', 'intelligence', 'to', 'tackling', 'solvable', 'problems', 'of', 'a', 'practical', 'nature.', 'It', 'shifted', 'focus', 'away', 'from', 'the', 'symbolic', 'approaches', 'it', 'had', 'inherited', 'from', 'AI,', 'and', 'toward', 'methods', 'and', 'models', 'borrowed', 'from', 'statistics', 'and', 'probability', 'theory.', 'It', 'also', 'benefited', 'from', 'the', 'increasing', 'availability', 'of', 'digitized', 'information,', 'and', 'the', 'ability', 'to', 'distribute', 'it', 'via', 'the', 'Internet.\\nMachine', 'learning', 'and', 'data', 'mining', 'often', 'employ', 'the', 'same', 'methods', 'and', 'overlap', 'significantly,', 'but', 'while', 'machine', 'learning', 'focuses', 'on', 'prediction,', 'based', 'on', 'known', 'properties', 'learned', 'from', 'the', 'training', 'data,', 'data', 'mining', 'focuses', 'on', 'the', 'discovery', 'of', '(previously)', 'unknown', 'properties', 'in', 'the', 'data', '(this', 'is', 'the', 'analysis', 'step', 'of', 'knowledge', 'discovery', 'in', 'databases).', 'Data', 'mining', 'uses', 'many', 'machine', 'learning', 'methods,', 'but', 'with', 'different', 'goals;', 'on', 'the', 'other', 'hand,', 'machine', 'learning', 'also', 'employs', 'data', 'mining', 'methods', 'as', '\"unsupervised', 'learning\"', 'or', 'as', 'a', 'preprocessing', 'step', 'to', 'improve', 'learner', 'accuracy.', 'Much', 'of', 'the', 'confusion', 'between', 'these', 'two', 'research', 'communities', '(which', 'do', 'often', 'have', 'separate', 'conferences', 'and', 'separate', 'journals,', 'ECML', 'PKDD', 'being', 'a', 'major', 'exception)', 'comes', 'from', 'the', 'basic', 'assumptions', 'they', 'work', 'with:', 'in', 'machine', 'learning,', 'performance', 'is', 'usually', 'evaluated', 'with', 'respect', 'to', 'the', 'ability', 'to', 'reproduce', 'known', 'knowledge,', 'while', 'in', 'knowledge', 'discovery', 'and', 'data', 'mining', '(KDD)', 'the', 'key', 'task', 'is', 'the', 'discovery', 'of', 'previously', 'unknown', 'knowledge.', 'Evaluated', 'with', 'respect', 'to', 'known', 'knowledge,', 'an', 'uninformed', '(unsupervised)', 'method', 'will', 'easily', 'be', 'outperformed', 'by', 'other', 'supervised', 'methods,', 'while', 'in', 'a', 'typical', 'KDD', 'task,', 'supervised', 'methods', 'cannot', 'be', 'used', 'due', 'to', 'the', 'unavailability', 'of', 'training', 'data.\\nMachine', 'learning', 'also', 'has', 'intimate', 'ties', 'to', 'optimization:', 'many', 'learning', 'problems', 'are', 'formulated', 'as', 'minimization', 'of', 'some', 'loss', 'function', 'on', 'a', 'training', 'set', 'of', 'examples.', 'Loss', 'functions', 'express', 'the', 'discrepancy', 'between', 'the', 'predictions', 'of', 'the', 'model', 'being', 'trained', 'and', 'the', 'actual', 'problem', 'instances', '(for', 'example,', 'in', 'classification,', 'one', 'wants', 'to', 'assign', 'a', 'label', 'to', 'instances,', 'and', 'models', 'are', 'trained', 'to', 'correctly', 'predict', 'the', 'pre-assigned', 'labels', 'of', 'a', 'set', 'of', 'examples).', 'The', 'difference', 'between', 'the', 'two', 'fields', 'arises', 'from', 'the', 'goal', 'of', 'generalization:', 'while', 'optimization', 'algorithms', 'can', 'minimize', 'the', 'loss', 'on', 'a', 'training', 'set,', 'machine', 'learning', 'is', 'concerned', 'with', 'minimizing', 'the', 'loss', 'on', 'unseen', 'samples.\\n\\n\\n===', 'Relation', 'to', 'statistics', '===\\nMachine', 'learning', 'and', 'statistics', 'are', 'closely', 'related', 'fields.', 'According', 'to', 'Michael', 'I.', 'Jordan,', 'the', 'ideas', 'of', 'machine', 'learning,', 'from', 'methodological', 'principles', 'to', 'theoretical', 'tools,', 'have', 'had', 'a', 'long', 'pre-history', 'in', 'statistics.', 'He', 'also', 'suggested', 'the', 'term', 'data', 'science', 'as', 'a', 'placeholder', 'to', 'call', 'the', 'overall', 'field.Leo', 'Breiman', 'distinguished', 'two', 'statistical', 'modelling', 'paradigms:', 'data', 'model', 'and', 'algorithmic', 'model,', 'wherein', '\"algorithmic', 'model\"', 'means', 'more', 'or', 'less', 'the', 'machine', 'learning', 'algorithms', 'like', 'Random', 'forest.\\nSome', 'statisticians', 'have', 'adopted', 'methods', 'from', 'machine', 'learning,', 'leading', 'to', 'a', 'combined', 'field', 'that', 'they', 'call', 'statistical', 'learning.\\n\\n\\n==', 'Theory', '==\\n\\nA', 'core', 'objective', 'of', 'a', 'learner', 'is', 'to', 'generalize', 'from', 'its', 'experience.', 'Generalization', 'in', 'this', 'context', 'is', 'the', 'ability', 'of', 'a', 'learning', 'machine', 'to', 'perform', 'accurately', 'on', 'new,', 'unseen', 'examples/tasks', 'after', 'having', 'experienced', 'a', 'learning', 'data', 'set.', 'The', 'training', 'examples', 'come', 'from', 'some', 'generally', 'unknown', 'probability', 'distribution', '(considered', 'representative', 'of', 'the', 'space', 'of', 'occurrences)', 'and', 'the', 'learner', 'has', 'to', 'build', 'a', 'general', 'model', 'about', 'this', 'space', 'that', 'enables', 'it', 'to', 'produce', 'sufficiently', 'accurate', 'predictions', 'in', 'new', 'cases.\\nThe', 'computational', 'analysis', 'of', 'machine', 'learning', 'algorithms', 'and', 'their', 'performance', 'is', 'a', 'branch', 'of', 'theoretical', 'computer', 'science', 'known', 'as', 'computational', 'learning', 'theory.', 'Because', 'training', 'sets', 'are', 'finite', 'and', 'the', 'future', 'is', 'uncertain,', 'learning', 'theory', 'usually', 'does', 'not', 'yield', 'guarantees', 'of', 'the', 'performance', 'of', 'algorithms.', 'Instead,', 'probabilistic', 'bounds', 'on', 'the', 'performance', 'are', 'quite', 'common.', 'The', 'bias–variance', 'decomposition', 'is', 'one', 'way', 'to', 'quantify', 'generalization', 'error.\\nFor', 'the', 'best', 'performance', 'in', 'the', 'context', 'of', 'generalization,', 'the', 'complexity', 'of', 'the', 'hypothesis', 'should', 'match', 'the', 'complexity', 'of', 'the', 'function', 'underlying', 'the', 'data.', 'If', 'the', 'hypothesis', 'is', 'less', 'complex', 'than', 'the', 'function,', 'then', 'the', 'model', 'has', 'underfit', 'the', 'data.', 'If', 'the', 'complexity', 'of', 'the', 'model', 'is', 'increased', 'in', 'response,', 'then', 'the', 'training', 'error', 'decreases.', 'But', 'if', 'the', 'hypothesis', 'is', 'too', 'complex,', 'then', 'the', 'model', 'is', 'subject', 'to', 'overfitting', 'and', 'generalization', 'will', 'be', 'poorer.In', 'addition', 'to', 'performance', 'bounds,', 'computational', 'learning', 'theorists', 'study', 'the', 'time', 'complexity', 'and', 'feasibility', 'of', 'learning.', 'In', 'computational', 'learning', 'theory,', 'a', 'computation', 'is', 'considered', 'feasible', 'if', 'it', 'can', 'be', 'done', 'in', 'polynomial', 'time.', 'There', 'are', 'two', 'kinds', 'of', 'time', 'complexity', 'results.', 'Positive', 'results', 'show', 'that', 'a', 'certain', 'class', 'of', 'functions', 'can', 'be', 'learned', 'in', 'polynomial', 'time.', 'Negative', 'results', 'show', 'that', 'certain', 'classes', 'cannot', 'be', 'learned', 'in', 'polynomial', 'time.\\n\\n\\n==', 'Approaches', '==\\n\\n\\n===', 'Decision', 'tree', 'learning', '===\\n\\nDecision', 'tree', 'learning', 'uses', 'a', 'decision', 'tree', 'as', 'a', 'predictive', 'model,', 'which', 'maps', 'observations', 'about', 'an', 'item', 'to', 'conclusions', 'about', 'the', \"item's\", 'target', 'value.\\n\\n\\n===', 'Association', 'rule', 'learning', '===\\n\\nAssociation', 'rule', 'learning', 'is', 'a', 'method', 'for', 'discovering', 'interesting', 'relations', 'between', 'variables', 'in', 'large', 'databases.\\n\\n\\n===', 'Artificial', 'neural', 'networks', '===\\n\\nAn', 'artificial', 'neural', 'network', '(ANN)', 'learning', 'algorithm,', 'usually', 'called', '\"neural', 'network\"', '(NN),', 'is', 'a', 'learning', 'algorithm', 'that', 'is', 'vaguely', 'inspired', 'by', 'biological', 'neural', 'networks.', 'Computations', 'are', 'structured', 'in', 'terms', 'of', 'an', 'interconnected', 'group', 'of', 'artificial', 'neurons,', 'processing', 'information', 'using', 'a', 'connectionist', 'approach', 'to', 'computation.', 'Modern', 'neural', 'networks', 'are', 'non-linear', 'statistical', 'data', 'modeling', 'tools.', 'They', 'are', 'usually', 'used', 'to', 'model', 'complex', 'relationships', 'between', 'inputs', 'and', 'outputs,', 'to', 'find', 'patterns', 'in', 'data,', 'or', 'to', 'capture', 'the', 'statistical', 'structure', 'in', 'an', 'unknown', 'joint', 'probability', 'distribution', 'between', 'observed', 'variables.\\n\\n\\n====', 'Deep', 'learning', '====\\n\\nFalling', 'hardware', 'prices', 'and', 'the', 'development', 'of', 'GPUs', 'for', 'personal', 'use', 'in', 'the', 'last', 'few', 'years', 'have', 'contributed', 'to', 'the', 'development', 'of', 'the', 'concept', 'of', 'deep', 'learning', 'which', 'consists', 'of', 'multiple', 'hidden', 'layers', 'in', 'an', 'artificial', 'neural', 'network.', 'This', 'approach', 'tries', 'to', 'model', 'the', 'way', 'the', 'human', 'brain', 'processes', 'light', 'and', 'sound', 'into', 'vision', 'and', 'hearing.', 'Some', 'successful', 'applications', 'of', 'deep', 'learning', 'are', 'computer', 'vision', 'and', 'speech', 'recognition.\\n\\n\\n===', 'Inductive', 'logic', 'programming', '===\\n\\nInductive', 'logic', 'programming', '(ILP)', 'is', 'an', 'approach', 'to', 'rule', 'learning', 'using', 'logic', 'programming', 'as', 'a', 'uniform', 'representation', 'for', 'input', 'examples,', 'background', 'knowledge,', 'and', 'hypotheses.', 'Given', 'an', 'encoding', 'of', 'the', 'known', 'background', 'knowledge', 'and', 'a', 'set', 'of', 'examples', 'represented', 'as', 'a', 'logical', 'database', 'of', 'facts,', 'an', 'ILP', 'system', 'will', 'derive', 'a', 'hypothesized', 'logic', 'program', 'that', 'entails', 'all', 'positive', 'and', 'no', 'negative', 'examples.', 'Inductive', 'programming', 'is', 'a', 'related', 'field', 'that', 'considers', 'any', 'kind', 'of', 'programming', 'languages', 'for', 'representing', 'hypotheses', '(and', 'not', 'only', 'logic', 'programming),', 'such', 'as', 'functional', 'programs.\\n\\n\\n===', 'Support', 'vector', 'machines', '===\\n\\nSupport', 'vector', 'machines', '(SVMs)', 'are', 'a', 'set', 'of', 'related', 'supervised', 'learning', 'methods', 'used', 'for', 'classification', 'and', 'regression.', 'Given', 'a', 'set', 'of', 'training', 'examples,', 'each', 'marked', 'as', 'belonging', 'to', 'one', 'of', 'two', 'categories,', 'an', 'SVM', 'training', 'algorithm', 'builds', 'a', 'model', 'that', 'predicts', 'whether', 'a', 'new', 'example', 'falls', 'into', 'one', 'category', 'or', 'the', 'other.\\n\\n\\n===', 'Clustering', '===\\n\\nCluster', 'analysis', 'is', 'the', 'assignment', 'of', 'a', 'set', 'of', 'observations', 'into', 'subsets', '(called', 'clusters)', 'so', 'that', 'observations', 'within', 'the', 'same', 'cluster', 'are', 'similar', 'according', 'to', 'some', 'predesignated', 'criterion', 'or', 'criteria,', 'while', 'observations', 'drawn', 'from', 'different', 'clusters', 'are', 'dissimilar.', 'Different', 'clustering', 'techniques', 'make', 'different', 'assumptions', 'on', 'the', 'structure', 'of', 'the', 'data,', 'often', 'defined', 'by', 'some', 'similarity', 'metric', 'and', 'evaluated', 'for', 'example', 'by', 'internal', 'compactness', '(similarity', 'between', 'members', 'of', 'the', 'same', 'cluster)', 'and', 'separation', 'between', 'different', 'clusters.', 'Other', 'methods', 'are', 'based', 'on', 'estimated', 'density', 'and', 'graph', 'connectivity.\\nClustering', 'is', 'a', 'method', 'of', 'unsupervised', 'learning,', 'and', 'a', 'common', 'technique', 'for', 'statistical', 'data', 'analysis.\\n\\n\\n===', 'Bayesian', 'networks', '===\\n\\nA', 'Bayesian', 'network,', 'belief', 'network', 'or', 'directed', 'acyclic', 'graphical', 'model', 'is', 'a', 'probabilistic', 'graphical', 'model', 'that', 'represents', 'a', 'set', 'of', 'random', 'variables', 'and', 'their', 'conditional', 'independencies', 'via', 'a', 'directed', 'acyclic', 'graph', '(DAG).', 'For', 'example,', 'a', 'Bayesian', 'network', 'could', 'represent', 'the', 'probabilistic', 'relationships', 'between', 'diseases', 'and', 'symptoms.', 'Given', 'symptoms,', 'the', 'network', 'can', 'be', 'used', 'to', 'compute', 'the', 'probabilities', 'of', 'the', 'presence', 'of', 'various', 'diseases.', 'Efficient', 'algorithms', 'exist', 'that', 'perform', 'inference', 'and', 'learning.\\n\\n\\n===', 'Representation', 'learning', '===\\n\\nSeveral', 'learning', 'algorithms,', 'mostly', 'unsupervised', 'learning', 'algorithms,', 'aim', 'at', 'discovering', 'better', 'representations', 'of', 'the', 'inputs', 'provided', 'during', 'training.', 'Classical', 'examples', 'include', 'principal', 'components', 'analysis', 'and', 'cluster', 'analysis.', 'Representation', 'learning', 'algorithms', 'often', 'attempt', 'to', 'preserve', 'the', 'information', 'in', 'their', 'input', 'but', 'transform', 'it', 'in', 'a', 'way', 'that', 'makes', 'it', 'useful,', 'often', 'as', 'a', 'pre-processing', 'step', 'before', 'performing', 'classification', 'or', 'predictions,', 'allowing', 'reconstruction', 'of', 'the', 'inputs', 'coming', 'from', 'the', 'unknown', 'data', 'generating', 'distribution,', 'while', 'not', 'being', 'necessarily', 'faithful', 'for', 'configurations', 'that', 'are', 'implausible', 'under', 'that', 'distribution.\\nManifold', 'learning', 'algorithms', 'attempt', 'to', 'do', 'so', 'under', 'the', 'constraint', 'that', 'the', 'learned', 'representation', 'is', 'low-dimensional.', 'Sparse', 'coding', 'algorithms', 'attempt', 'to', 'do', 'so', 'under', 'the', 'constraint', 'that', 'the', 'learned', 'representation', 'is', 'sparse', '(has', 'many', 'zeros).', 'Multilinear', 'subspace', 'learning', 'algorithms', 'aim', 'to', 'learn', 'low-dimensional', 'representations', 'directly', 'from', 'tensor', 'representations', 'for', 'multidimensional', 'data,', 'without', 'reshaping', 'them', 'into', '(high-dimensional)', 'vectors.', 'Deep', 'learning', 'algorithms', 'discover', 'multiple', 'levels', 'of', 'representation,', 'or', 'a', 'hierarchy', 'of', 'features,', 'with', 'higher-level,', 'more', 'abstract', 'features', 'defined', 'in', 'terms', 'of', '(or', 'generating)', 'lower-level', 'features.', 'It', 'has', 'been', 'argued', 'that', 'an', 'intelligent', 'machine', 'is', 'one', 'that', 'learns', 'a', 'representation', 'that', 'disentangles', 'the', 'underlying', 'factors', 'of', 'variation', 'that', 'explain', 'the', 'observed', 'data.\\n\\n\\n===', 'Similarity', 'and', 'metric', 'learning', '===\\n\\nIn', 'this', 'problem,', 'the', 'learning', 'machine', 'is', 'given', 'pairs', 'of', 'examples', 'that', 'are', 'considered', 'similar', 'and', 'pairs', 'of', 'less', 'similar', 'objects.', 'It', 'then', 'needs', 'to', 'learn', 'a', 'similarity', 'function', '(or', 'a', 'distance', 'metric', 'function)', 'that', 'can', 'predict', 'if', 'new', 'objects', 'are', 'similar.', 'It', 'is', 'sometimes', 'used', 'in', 'Recommendation', 'systems.\\n\\n\\n===', 'Sparse', 'dictionary', 'learning', '===\\n\\nIn', 'this', 'method,', 'a', 'datum', 'is', 'represented', 'as', 'a', 'linear', 'combination', 'of', 'basis', 'functions,', 'and', 'the', 'coefficients', 'are', 'assumed', 'to', 'be', 'sparse.', 'Let', 'x', 'be', 'a', 'd-dimensional', 'datum,', 'D', 'be', 'a', 'd', 'by', 'n', 'matrix,', 'where', 'each', 'column', 'of', 'D', 'represents', 'a', 'basis', 'function.', 'r', 'is', 'the', 'coefficient', 'to', 'represent', 'x', 'using', 'D.', 'Mathematically,', 'sparse', 'dictionary', 'learning', 'means', 'solving', '\\n', '', '\\n', '', '', '', '\\n', '', '', '', '', '', '\\n', '', '', '', '', '', '', '', 'x\\n', '', '', '', '', '', '', '', '≈\\n', '', '', '', '', '', '', '', 'D\\n', '', '', '', '', '', '', '', 'r\\n', '', '', '', '', '', '\\n', '', '', '', '\\n', '', '', '', '{\\\\displaystyle', 'x\\\\approx', 'Dr}\\n', '', '', 'where', 'r', 'is', 'sparse.', 'Generally', 'speaking,', 'n', 'is', 'assumed', 'to', 'be', 'larger', 'than', 'd', 'to', 'allow', 'the', 'freedom', 'for', 'a', 'sparse', 'representation.\\nLearning', 'a', 'dictionary', 'along', 'with', 'sparse', 'representations', 'is', 'strongly', 'NP-hard', 'and', 'also', 'difficult', 'to', 'solve', 'approximately.', 'A', 'popular', 'heuristic', 'method', 'for', 'sparse', 'dictionary', 'learning', 'is', 'K-SVD.\\nSparse', 'dictionary', 'learning', 'has', 'been', 'applied', 'in', 'several', 'contexts.', 'In', 'classification,', 'the', 'problem', 'is', 'to', 'determine', 'which', 'classes', 'a', 'previously', 'unseen', 'datum', 'belongs', 'to.', 'Suppose', 'a', 'dictionary', 'for', 'each', 'class', 'has', 'already', 'been', 'built.', 'Then', 'a', 'new', 'datum', 'is', 'associated', 'with', 'the', 'class', 'such', 'that', \"it's\", 'best', 'sparsely', 'represented', 'by', 'the', 'corresponding', 'dictionary.', 'Sparse', 'dictionary', 'learning', 'has', 'also', 'been', 'applied', 'in', 'image', 'de-noising.', 'The', 'key', 'idea', 'is', 'that', 'a', 'clean', 'image', 'patch', 'can', 'be', 'sparsely', 'represented', 'by', 'an', 'image', 'dictionary,', 'but', 'the', 'noise', 'cannot.\\n\\n\\n===', 'Genetic', 'algorithms', '===\\n\\nA', 'genetic', 'algorithm', '(GA)', 'is', 'a', 'search', 'heuristic', 'that', 'mimics', 'the', 'process', 'of', 'natural', 'selection,', 'and', 'uses', 'methods', 'such', 'as', 'mutation', 'and', 'crossover', 'to', 'generate', 'new', 'genotype', 'in', 'the', 'hope', 'of', 'finding', 'good', 'solutions', 'to', 'a', 'given', 'problem.', 'In', 'machine', 'learning,', 'genetic', 'algorithms', 'found', 'some', 'uses', 'in', 'the', '1980s', 'and', '1990s.', 'Conversely,', 'machine', 'learning', 'techniques', 'have', 'been', 'used', 'to', 'improve', 'the', 'performance', 'of', 'genetic', 'and', 'evolutionary', 'algorithms.\\n\\n\\n===', 'Rule-based', 'machine', 'learning', '===\\nRule-based', 'machine', 'learning', 'is', 'a', 'general', 'term', 'for', 'any', 'machine', 'learning', 'method', 'that', 'identifies,', 'learns,', 'or', 'evolves', '\"rules\"', 'to', 'store,', 'manipulate', 'or', 'apply,', 'knowledge.', '', 'The', 'defining', 'characteristic', 'of', 'a', 'rule-based', 'machine', 'learner', 'is', 'the', 'identification', 'and', 'utilization', 'of', 'a', 'set', 'of', 'relational', 'rules', 'that', 'collectively', 'represent', 'the', 'knowledge', 'captured', 'by', 'the', 'system.', '', 'This', 'is', 'in', 'contrast', 'to', 'other', 'machine', 'learners', 'that', 'commonly', 'identify', 'a', 'singular', 'model', 'that', 'can', 'be', 'universally', 'applied', 'to', 'any', 'instance', 'in', 'order', 'to', 'make', 'a', 'prediction.', 'Rule-based', 'machine', 'learning', 'approaches', 'include', 'learning', 'classifier', 'systems,', 'association', 'rule', 'learning,', 'and', 'artificial', 'immune', 'systems.\\n\\n\\n====', 'Learning', 'classifier', 'systems', '====\\n\\nLearning', 'classifier', 'systems', '(LCS)', 'are', 'a', 'family', 'of', 'rule-based', 'machine', 'learning', 'algorithms', 'that', 'combine', 'a', 'discovery', 'component', '(e.g.', 'typically', 'a', 'genetic', 'algorithm)', 'with', 'a', 'learning', 'component', '(performing', 'either', 'supervised', 'learning,', 'reinforcement', 'learning,', 'or', 'unsupervised', 'learning).', 'They', 'seek', 'to', 'identify', 'a', 'set', 'of', 'context-dependent', 'rules', 'that', 'collectively', 'store', 'and', 'apply', 'knowledge', 'in', 'a', 'piecewise', 'manner', 'in', 'order', 'to', 'make', 'predictions.\\n\\n\\n==', 'Applications', '==\\nApplications', 'for', 'machine', 'learning', 'include:\\n\\nIn', '2006,', 'the', 'online', 'movie', 'company', 'Netflix', 'held', 'the', 'first', '\"Netflix', 'Prize\"', 'competition', 'to', 'find', 'a', 'program', 'to', 'better', 'predict', 'user', 'preferences', 'and', 'improve', 'the', 'accuracy', 'on', 'its', 'existing', 'Cinematch', 'movie', 'recommendation', 'algorithm', 'by', 'at', 'least', '10%.', '', 'A', 'joint', 'team', 'made', 'up', 'of', 'researchers', 'from', 'AT&T', 'Labs-Research', 'in', 'collaboration', 'with', 'the', 'teams', 'Big', 'Chaos', 'and', 'Pragmatic', 'Theory', 'built', 'an', 'ensemble', 'model', 'to', 'win', 'the', 'Grand', 'Prize', 'in', '2009', 'for', '$1', 'million.', 'Shortly', 'after', 'the', 'prize', 'was', 'awarded,', 'Netflix', 'realized', 'that', \"viewers'\", 'ratings', 'were', 'not', 'the', 'best', 'indicators', 'of', 'their', 'viewing', 'patterns', '(\"everything', 'is', 'a', 'recommendation\")', 'and', 'they', 'changed', 'their', 'recommendation', 'engine', 'accordingly.In', '2010', 'The', 'Wall', 'Street', 'Journal', 'wrote', 'about', 'the', 'firm', 'Rebellion', 'Research', 'and', 'their', 'use', 'of', 'Machine', 'Learning', 'to', 'predict', 'the', 'financial', 'crisis.', '\\nIn', '2012,', 'co-founder', 'of', 'Sun', 'Microsystems', 'Vinod', 'Khosla', 'predicted', 'that', '80%', 'of', 'medical', 'doctors', 'jobs', 'would', 'be', 'lost', 'in', 'the', 'next', 'two', 'decades', 'to', 'automated', 'machine', 'learning', 'medical', 'diagnostic', 'software.In', '2014,', 'it', 'has', 'been', 'reported', 'that', 'a', 'machine', 'learning', 'algorithm', 'has', 'been', 'applied', 'in', 'Art', 'History', 'to', 'study', 'fine', 'art', 'paintings,', 'and', 'that', 'it', 'may', 'have', 'revealed', 'previously', 'unrecognized', 'influences', 'between', 'artists.\\n\\n\\n==', 'Limitations', '==\\nAlthough', 'machine', 'learning', 'has', 'been', 'transformative', 'in', 'some', 'fields,', 'effective', 'machine', 'learning', 'is', 'difficult', 'because', 'finding', 'patterns', 'is', 'hard', 'and', 'often', 'not', 'enough', 'training', 'data', 'are', 'available;', 'as', 'a', 'result,', 'many', 'machine-learning', 'programs', 'often', 'fail', 'to', 'deliver', 'the', 'expected', 'value.', 'Reasons', 'for', 'this', 'are', 'numerous:', 'lack', 'of', '(suitable)', 'data,', 'lack', 'of', 'access', 'to', 'the', 'data,', 'data', 'bias,', 'privacy', 'problems,', 'badly', 'chosen', 'tasks', 'and', 'algorithms,', 'wrong', 'tools', 'and', 'people,', 'lack', 'of', 'resources,', 'and', 'evaluation', 'problems.In', '2018,', 'a', 'self-driving', 'car', 'from', 'Uber', 'failed', 'to', 'detect', 'a', 'pedestrian,', 'who', 'got', 'killed', 'in', 'the', 'accident.', 'Attempts', 'to', 'use', 'machine', 'learning', 'in', 'healthcare', 'with', 'the', 'IBM', 'Watson', 'system', 'failed', 'to', 'deliver', 'even', 'after', 'years', 'of', 'time', 'and', 'billions', 'of', 'investment.\\n\\n\\n===', 'Bias', '===\\n\\nMachine', 'learning', 'approaches', 'in', 'particular', 'can', 'suffer', 'from', 'different', 'data', 'biases.', 'A', 'machine', 'learning', 'system', 'trained', 'on', 'your', 'current', 'customers', 'only', 'may', 'not', 'be', 'able', 'to', 'predict', 'the', 'needs', 'of', 'new', 'customer', 'groups', 'that', 'are', 'not', 'represented', 'in', 'the', 'training', 'data.', 'When', 'trained', 'on', 'man-made', 'data,', 'machine', 'learning', 'is', 'likely', 'to', 'pick', 'up', 'the', 'same', 'constitutional', 'and', 'unconscious', 'biases', 'already', 'present', 'in', 'society.', 'Language', 'models', 'learned', 'from', 'data', 'have', 'been', 'shown', 'to', 'contain', 'human-like', 'biases.', 'Machine', 'learning', 'systems', 'used', 'for', 'criminal', 'risk', 'assessment', 'have', 'been', 'found', 'to', 'be', 'biased', 'against', 'black', 'people.', 'In', '2015,', 'Google', 'photos', 'would', 'often', 'tag', 'black', 'people', 'as', 'gorillas,', 'and', 'in', '2018', 'this', 'still', 'was', 'not', 'well', 'resolved,', 'but', 'Google', 'reportedly', 'was', 'still', 'using', 'the', 'workaround', 'to', 'remove', 'all', 'gorilla', 'from', 'the', 'training', 'data,', 'and', 'thus', 'was', 'not', 'able', 'to', 'recognize', 'real', 'gorillas', 'at', 'all.', 'Similar', 'issues', 'with', 'recognizing', 'non-white', 'people', 'have', 'been', 'found', 'in', 'many', 'other', 'systems.', 'In', '2016,', 'Microsoft', 'tested', 'a', 'chatbot', 'that', 'learned', 'from', 'Twitter,', 'and', 'it', 'quickly', 'picked', 'up', 'racist', 'and', 'sexist', 'language.', 'Because', 'of', 'such', 'challenges,', 'the', 'effective', 'use', 'of', 'machine', 'learning', 'may', 'take', 'longer', 'to', 'be', 'adopted', 'in', 'other', 'domains.\\n\\n\\n==', 'Model', 'assessments', '==\\nClassification', 'machine', 'learning', 'models', 'can', 'be', 'validated', 'by', 'accuracy', 'estimation', 'techniques', 'like', 'the', 'Holdout', 'method,', 'which', 'splits', 'the', 'data', 'in', 'a', 'training', 'and', 'test', 'set', '(conventionally', '2/3', 'training', 'set', 'and', '1/3', 'test', 'set', 'designation)', 'and', 'evaluates', 'the', 'performance', 'of', 'the', 'training', 'model', 'on', 'the', 'test', 'set.', 'In', 'comparison,', 'the', 'N-fold-cross-validation', 'method', 'randomly', 'splits', 'the', 'data', 'in', 'k', 'subsets', 'where', 'the', 'k-1', 'instances', 'of', 'the', 'data', 'are', 'used', 'to', 'train', 'the', 'model', 'while', 'the', 'kth', 'instance', 'is', 'used', 'to', 'test', 'the', 'predictive', 'ability', 'of', 'the', 'training', 'model.', 'In', 'addition', 'to', 'the', 'holdout', 'and', 'cross-validation', 'methods,', 'bootstrap,', 'which', 'samples', 'n', 'instances', 'with', 'replacement', 'from', 'the', 'dataset,', 'can', 'be', 'used', 'to', 'assess', 'model', 'accuracy.In', 'addition', 'to', 'overall', 'accuracy,', 'investigators', 'frequently', 'report', 'sensitivity', 'and', 'specificity', 'meaning', 'True', 'Positive', 'Rate', '(TPR)', 'and', 'True', 'Negative', 'Rate', '(TNR)', 'respectively.', 'Similarly,', 'investigators', 'sometimes', 'report', 'the', 'False', 'Positive', 'Rate', '(FPR)', 'as', 'well', 'as', 'the', 'False', 'Negative', 'Rate', '(FNR).', 'However,', 'these', 'rates', 'are', 'ratios', 'that', 'fail', 'to', 'reveal', 'their', 'numerators', 'and', 'denominators.', 'The', 'Total', 'Operating', 'Characteristic', '(TOC)', 'is', 'an', 'effective', 'method', 'to', 'express', 'a', \"model's\", 'diagnostic', 'ability.', 'TOC', 'shows', 'the', 'numerators', 'and', 'denominators', 'of', 'the', 'previously', 'mentioned', 'rates,', 'thus', 'TOC', 'provides', 'more', 'information', 'than', 'the', 'commonly', 'used', 'Receiver', 'Operating', 'Characteristic', '(ROC)', 'and', \"ROC's\", 'associated', 'Area', 'Under', 'the', 'Curve', '(AUC).\\n\\n\\n==', 'Ethics', '==\\nMachine', 'learning', 'poses', 'a', 'host', 'of', 'ethical', 'questions.', 'Systems', 'which', 'are', 'trained', 'on', 'datasets', 'collected', 'with', 'biases', 'may', 'exhibit', 'these', 'biases', 'upon', 'use', '(algorithmic', 'bias),', 'thus', 'digitizing', 'cultural', 'prejudices.', 'For', 'example,', 'using', 'job', 'hiring', 'data', 'from', 'a', 'firm', 'with', 'racist', 'hiring', 'policies', 'may', 'lead', 'to', 'a', 'machine', 'learning', 'system', 'duplicating', 'the', 'bias', 'by', 'scoring', 'job', 'applicants', 'against', 'similarity', 'to', 'previous', 'successful', 'applicants.', 'Responsible', 'collection', 'of', 'data', 'and', 'documentation', 'of', 'algorithmic', 'rules', 'used', 'by', 'a', 'system', 'thus', 'is', 'a', 'critical', 'part', 'of', 'machine', 'learning.\\nBecause', 'language', 'contains', 'biases,', 'machines', 'trained', 'on', 'language', 'corpora', 'will', 'necessarily', 'also', 'learn', 'bias.Other', 'forms', 'of', 'ethical', 'challenges,', 'not', 'related', 'to', 'personal', 'biases,', 'are', 'more', 'seen', 'in', 'health', 'care.', 'There', 'are', 'concerns', 'among', 'health', 'care', 'professionals', 'that', 'these', 'systems', 'might', 'not', 'be', 'designed', 'in', 'the', \"public's\", 'interest,', 'but', 'as', 'income', 'generating', 'machines.', 'This', 'is', 'especially', 'true', 'in', 'the', 'United', 'States', 'where', 'there', 'is', 'a', 'perpetual', 'ethical', 'dilemma', 'of', 'improving', 'health', 'care,', 'but', 'also', 'increasing', 'profits.', 'For', 'example,', 'the', 'algorithms', 'could', 'be', 'designed', 'to', 'provide', 'patients', 'with', 'unnecessary', 'tests', 'or', 'medication', 'in', 'which', 'the', \"algorithm's\", 'proprietary', 'owners', 'hold', 'stakes', 'in.', 'There', 'is', 'huge', 'potential', 'for', 'machine', 'learning', 'in', 'health', 'care', 'to', 'provide', 'professionals', 'a', 'great', 'tool', 'to', 'diagnose,', 'medicate,', 'and', 'even', 'plan', 'recovery', 'paths', 'for', 'patients,', 'but', 'this', 'will', 'not', 'happen', 'until', 'the', 'personal', 'biases', 'mentioned', 'previously,', 'and', 'these', '\"greed\"', 'biases', 'are', 'addressed.\\n\\n\\n==', 'Software', '==\\nSoftware', 'suites', 'containing', 'a', 'variety', 'of', 'machine', 'learning', 'algorithms', 'include', 'the', 'following', ':\\n\\n\\n===', 'Free', 'and', 'open-source', 'software', '===\\n\\n\\n===', 'Proprietary', 'software', 'with', 'free', 'and', 'open-source', 'editions', '===\\n\\n\\n===', 'Proprietary', 'software', '===\\n\\n\\n==', 'Journals', '==\\nJournal', 'of', 'Machine', 'Learning', 'Research\\nMachine', 'Learning\\nNeural', 'Computation\\n\\n\\n==', 'Conferences', '==\\nConference', 'on', 'Neural', 'Information', 'Processing', 'Systems\\nInternational', 'Conference', 'on', 'Machine', 'Learning\\n\\n\\n==', 'See', 'also', '==\\n\\n\\n==', 'References', '==\\n\\n\\n==', 'Further', 'reading', '==\\n\\n\\n==', 'External', 'links', '==\\nInternational', 'Machine', 'Learning', 'Society\\nPopular', 'online', 'course', 'by', 'Andrew', 'Ng,', 'at', 'Coursera.', 'It', 'uses', 'GNU', 'Octave.', 'The', 'course', 'is', 'a', 'free', 'version', 'of', 'Stanford', \"University's\", 'actual', 'course', 'taught', 'by', 'Ng,', 'whose', 'lectures', 'are', 'also', 'available', 'for', 'free.\\nmloss', 'is', 'an', 'academic', 'database', 'of', 'open-source', 'machine', 'learning', 'software.\\nMachine', 'Learning', 'Crash', 'Course', 'by', 'Google.', 'This', 'is', 'a', 'free', 'course', 'on', 'machine', 'learning', 'through', 'the', 'use', 'of', 'TensorFlow.\\nMachine', 'Learning', 'with', 'Python', 'Course']\n"
     ]
    }
   ],
   "source": [
    "print (documents[0])"
   ]
  },
  {
   "cell_type": "markdown",
   "metadata": {},
   "source": [
    "### Build the gensim model for word2vec with by considering all the words with frequency >=1 with embedding size=50"
   ]
  },
  {
   "cell_type": "code",
   "execution_count": 11,
   "metadata": {},
   "outputs": [
    {
     "name": "stderr",
     "output_type": "stream",
     "text": [
      "2018-11-04 15:18:11,221 : WARNING : consider setting layer size to a multiple of 4 for greater performance\n",
      "2018-11-04 15:18:11,222 : INFO : collecting all words and their counts\n",
      "2018-11-04 15:18:11,224 : INFO : PROGRESS: at sentence #0, processed 0 words, keeping 0 word types\n",
      "2018-11-04 15:18:11,247 : INFO : collected 8539 word types from a corpus of 106528 raw words and 10 sentences\n",
      "2018-11-04 15:18:11,248 : INFO : Loading a fresh vocabulary\n",
      "2018-11-04 15:18:11,273 : INFO : effective_min_count=1 retains 8539 unique words (100% of original 8539, drops 0)\n",
      "2018-11-04 15:18:11,274 : INFO : effective_min_count=1 leaves 106528 word corpus (100% of original 106528, drops 0)\n",
      "2018-11-04 15:18:11,302 : INFO : deleting the raw counts dictionary of 8539 items\n",
      "2018-11-04 15:18:11,304 : INFO : sample=0.001 downsamples 12 most-common words\n",
      "2018-11-04 15:18:11,305 : INFO : downsampling leaves estimated 33388 word corpus (31.3% of prior 106528)\n",
      "2018-11-04 15:18:11,326 : INFO : estimated required memory for 8539 words and 50 dimensions: 7685100 bytes\n",
      "2018-11-04 15:18:11,327 : INFO : resetting layer weights\n",
      "2018-11-04 15:18:11,493 : INFO : training model with 4 workers on 8539 vocabulary and 50 features, using sg=0 hs=0 sample=0.001 negative=5 window=5\n",
      "2018-11-04 15:18:11,547 : INFO : worker thread finished; awaiting finish of 3 more threads\n",
      "2018-11-04 15:18:11,549 : INFO : worker thread finished; awaiting finish of 2 more threads\n",
      "2018-11-04 15:18:11,555 : INFO : worker thread finished; awaiting finish of 1 more threads\n",
      "2018-11-04 15:18:11,556 : INFO : worker thread finished; awaiting finish of 0 more threads\n",
      "2018-11-04 15:18:11,557 : INFO : EPOCH - 1 : training on 106528 raw words (33502 effective words) took 0.1s, 642403 effective words/s\n",
      "2018-11-04 15:18:11,607 : INFO : worker thread finished; awaiting finish of 3 more threads\n",
      "2018-11-04 15:18:11,609 : INFO : worker thread finished; awaiting finish of 2 more threads\n",
      "2018-11-04 15:18:11,610 : INFO : worker thread finished; awaiting finish of 1 more threads\n",
      "2018-11-04 15:18:11,611 : INFO : worker thread finished; awaiting finish of 0 more threads\n",
      "2018-11-04 15:18:11,612 : INFO : EPOCH - 2 : training on 106528 raw words (33369 effective words) took 0.0s, 685091 effective words/s\n",
      "2018-11-04 15:18:11,667 : INFO : worker thread finished; awaiting finish of 3 more threads\n",
      "2018-11-04 15:18:11,670 : INFO : worker thread finished; awaiting finish of 2 more threads\n",
      "2018-11-04 15:18:11,675 : INFO : worker thread finished; awaiting finish of 1 more threads\n",
      "2018-11-04 15:18:11,684 : INFO : worker thread finished; awaiting finish of 0 more threads\n",
      "2018-11-04 15:18:11,685 : INFO : EPOCH - 3 : training on 106528 raw words (33383 effective words) took 0.1s, 519869 effective words/s\n",
      "2018-11-04 15:18:11,781 : INFO : worker thread finished; awaiting finish of 3 more threads\n",
      "2018-11-04 15:18:11,783 : INFO : worker thread finished; awaiting finish of 2 more threads\n",
      "2018-11-04 15:18:11,784 : INFO : worker thread finished; awaiting finish of 1 more threads\n",
      "2018-11-04 15:18:11,789 : INFO : worker thread finished; awaiting finish of 0 more threads\n",
      "2018-11-04 15:18:11,790 : INFO : EPOCH - 4 : training on 106528 raw words (33485 effective words) took 0.1s, 399947 effective words/s\n",
      "2018-11-04 15:18:11,837 : INFO : worker thread finished; awaiting finish of 3 more threads\n",
      "2018-11-04 15:18:11,840 : INFO : worker thread finished; awaiting finish of 2 more threads\n",
      "2018-11-04 15:18:11,847 : INFO : worker thread finished; awaiting finish of 1 more threads\n",
      "2018-11-04 15:18:11,850 : INFO : worker thread finished; awaiting finish of 0 more threads\n",
      "2018-11-04 15:18:11,851 : INFO : EPOCH - 5 : training on 106528 raw words (33325 effective words) took 0.1s, 591251 effective words/s\n",
      "2018-11-04 15:18:11,906 : INFO : worker thread finished; awaiting finish of 3 more threads\n",
      "2018-11-04 15:18:11,907 : INFO : worker thread finished; awaiting finish of 2 more threads\n",
      "2018-11-04 15:18:11,909 : INFO : worker thread finished; awaiting finish of 1 more threads\n",
      "2018-11-04 15:18:11,913 : INFO : worker thread finished; awaiting finish of 0 more threads\n",
      "2018-11-04 15:18:11,914 : INFO : EPOCH - 6 : training on 106528 raw words (33336 effective words) took 0.1s, 591278 effective words/s\n",
      "2018-11-04 15:18:11,955 : INFO : worker thread finished; awaiting finish of 3 more threads\n",
      "2018-11-04 15:18:11,957 : INFO : worker thread finished; awaiting finish of 2 more threads\n",
      "2018-11-04 15:18:11,959 : INFO : worker thread finished; awaiting finish of 1 more threads\n",
      "2018-11-04 15:18:11,967 : INFO : worker thread finished; awaiting finish of 0 more threads\n",
      "2018-11-04 15:18:11,968 : INFO : EPOCH - 7 : training on 106528 raw words (33414 effective words) took 0.0s, 684056 effective words/s\n",
      "2018-11-04 15:18:12,013 : INFO : worker thread finished; awaiting finish of 3 more threads\n",
      "2018-11-04 15:18:12,016 : INFO : worker thread finished; awaiting finish of 2 more threads\n",
      "2018-11-04 15:18:12,027 : INFO : worker thread finished; awaiting finish of 1 more threads\n",
      "2018-11-04 15:18:12,029 : INFO : worker thread finished; awaiting finish of 0 more threads\n",
      "2018-11-04 15:18:12,030 : INFO : EPOCH - 8 : training on 106528 raw words (33413 effective words) took 0.1s, 606818 effective words/s\n",
      "2018-11-04 15:18:12,086 : INFO : worker thread finished; awaiting finish of 3 more threads\n",
      "2018-11-04 15:18:12,087 : INFO : worker thread finished; awaiting finish of 2 more threads\n",
      "2018-11-04 15:18:12,088 : INFO : worker thread finished; awaiting finish of 1 more threads\n",
      "2018-11-04 15:18:12,095 : INFO : worker thread finished; awaiting finish of 0 more threads\n",
      "2018-11-04 15:18:12,096 : INFO : EPOCH - 9 : training on 106528 raw words (33337 effective words) took 0.1s, 584642 effective words/s\n",
      "2018-11-04 15:18:12,145 : INFO : worker thread finished; awaiting finish of 3 more threads\n",
      "2018-11-04 15:18:12,147 : INFO : worker thread finished; awaiting finish of 2 more threads\n",
      "2018-11-04 15:18:12,154 : INFO : worker thread finished; awaiting finish of 1 more threads\n",
      "2018-11-04 15:18:12,158 : INFO : worker thread finished; awaiting finish of 0 more threads\n",
      "2018-11-04 15:18:12,159 : INFO : EPOCH - 10 : training on 106528 raw words (33404 effective words) took 0.1s, 590803 effective words/s\n",
      "2018-11-04 15:18:12,160 : INFO : training on a 1065280 raw words (333968 effective words) took 0.7s, 502445 effective words/s\n"
     ]
    }
   ],
   "source": [
    "model = gensim.models.Word2Vec(documents, #Word list\n",
    "                               min_count=1, #Ignore all words with total frequency lower than this                           \n",
    "                               workers=4, #Number of CPUs\n",
    "                               size=50,  #Embedding size\n",
    "                               window=5, #Maximum Distance between current and predicted word\n",
    "                               iter=10   #Number of iterations over the text corpus\n",
    "                              )  "
   ]
  },
  {
   "cell_type": "markdown",
   "metadata": {
    "slideshow": {
     "slide_type": "slide"
    }
   },
   "source": [
    "### Exploring the model"
   ]
  },
  {
   "cell_type": "markdown",
   "metadata": {
    "slideshow": {
     "slide_type": "slide"
    }
   },
   "source": [
    "#### Check how many words in the model"
   ]
  },
  {
   "cell_type": "code",
   "execution_count": 12,
   "metadata": {},
   "outputs": [
    {
     "name": "stderr",
     "output_type": "stream",
     "text": [
      "C:\\Users\\bananth\\AppData\\Local\\Continuum\\anaconda3\\lib\\site-packages\\ipykernel_launcher.py:1: DeprecationWarning: Call to deprecated `syn0` (Attribute will be removed in 4.0.0, use self.wv.vectors instead).\n",
      "  \"\"\"Entry point for launching an IPython kernel.\n"
     ]
    },
    {
     "data": {
      "text/plain": [
       "(8539, 50)"
      ]
     },
     "execution_count": 12,
     "metadata": {},
     "output_type": "execute_result"
    }
   ],
   "source": [
    "model.wv.syn0.shape"
   ]
  },
  {
   "cell_type": "markdown",
   "metadata": {
    "slideshow": {
     "slide_type": "slide"
    }
   },
   "source": [
    "### Get an embedding for word `SVM`"
   ]
  },
  {
   "cell_type": "code",
   "execution_count": 13,
   "metadata": {},
   "outputs": [
    {
     "data": {
      "text/plain": [
       "array([ 1.0260665 , -1.7938051 ,  0.2126215 ,  0.6050254 , -0.30921805,\n",
       "       -1.2751584 , -0.3204025 , -0.43595523,  0.09558893,  0.20286699,\n",
       "       -1.0056553 ,  1.1495671 ,  0.11439896, -0.55809253, -0.03964158,\n",
       "       -1.0480316 , -1.382683  ,  0.09614433, -0.76734585, -0.1614878 ,\n",
       "        0.6822112 ,  0.07033832,  0.5604986 ,  0.20448871, -0.2612005 ,\n",
       "       -1.0575078 ,  0.60800934,  0.810642  ,  0.05581933, -0.46731398,\n",
       "        0.13011657, -0.46610388, -0.16299851,  0.22774479, -0.12299313,\n",
       "       -0.0458829 ,  0.45188767,  0.06850111, -1.0703039 ,  0.8813559 ,\n",
       "       -0.78896797, -0.19473368,  0.76143134,  0.596582  ,  0.42050046,\n",
       "        0.28942633,  0.4351296 ,  0.10019887,  0.47400358,  0.16303706],\n",
       "      dtype=float32)"
      ]
     },
     "execution_count": 13,
     "metadata": {},
     "output_type": "execute_result"
    }
   ],
   "source": [
    "model.wv['SVM']"
   ]
  },
  {
   "cell_type": "markdown",
   "metadata": {
    "slideshow": {
     "slide_type": "slide"
    }
   },
   "source": [
    "### Finding most similar words for word `learning`"
   ]
  },
  {
   "cell_type": "code",
   "execution_count": 14,
   "metadata": {},
   "outputs": [
    {
     "name": "stderr",
     "output_type": "stream",
     "text": [
      "2018-11-04 15:18:12,215 : INFO : precomputing L2-norms of word weight vectors\n",
      "C:\\Users\\bananth\\AppData\\Local\\Continuum\\anaconda3\\lib\\site-packages\\gensim\\matutils.py:737: FutureWarning: Conversion of the second argument of issubdtype from `int` to `np.signedinteger` is deprecated. In future, it will be treated as `np.int32 == np.dtype(int).type`.\n",
      "  if np.issubdtype(vec.dtype, np.int):\n"
     ]
    },
    {
     "data": {
      "text/plain": [
       "[('concept', 0.9993912577629089),\n",
       " ('deep', 0.9992951154708862),\n",
       " ('shown', 0.9992802143096924),\n",
       " ('machine', 0.9991883039474487),\n",
       " ('_{i=1}^{n}c_{i}-{\\\\frac', 0.9991559982299805),\n",
       " ('success', 0.9991374015808105),\n",
       " ('belief', 0.9987298250198364),\n",
       " ('part', 0.9987019300460815),\n",
       " ('applied', 0.9986998438835144),\n",
       " ('type', 0.9986853003501892)]"
      ]
     },
     "execution_count": 14,
     "metadata": {},
     "output_type": "execute_result"
    }
   ],
   "source": [
    "model.wv.most_similar('learning')"
   ]
  },
  {
   "cell_type": "markdown",
   "metadata": {
    "slideshow": {
     "slide_type": "slide"
    }
   },
   "source": [
    "### Find the word which is not like others from `machine, svm, ball, learning`"
   ]
  },
  {
   "cell_type": "code",
   "execution_count": 15,
   "metadata": {},
   "outputs": [
    {
     "name": "stderr",
     "output_type": "stream",
     "text": [
      "C:\\Users\\bananth\\AppData\\Local\\Continuum\\anaconda3\\lib\\site-packages\\ipykernel_launcher.py:1: DeprecationWarning: Call to deprecated `doesnt_match` (Method will be removed in 4.0.0, use self.wv.doesnt_match() instead).\n",
      "  \"\"\"Entry point for launching an IPython kernel.\n",
      "2018-11-04 15:18:12,239 : WARNING : vectors for words {'svm'} are not present in the model, ignoring these words\n",
      "C:\\Users\\bananth\\AppData\\Local\\Continuum\\anaconda3\\lib\\site-packages\\gensim\\matutils.py:737: FutureWarning: Conversion of the second argument of issubdtype from `int` to `np.signedinteger` is deprecated. In future, it will be treated as `np.int32 == np.dtype(int).type`.\n",
      "  if np.issubdtype(vec.dtype, np.int):\n"
     ]
    },
    {
     "data": {
      "text/plain": [
       "'ball'"
      ]
     },
     "execution_count": 15,
     "metadata": {},
     "output_type": "execute_result"
    }
   ],
   "source": [
    "model.doesnt_match(\"machine svm ball learning\".split())"
   ]
  },
  {
   "cell_type": "markdown",
   "metadata": {
    "slideshow": {
     "slide_type": "slide"
    }
   },
   "source": [
    "### Save the model with name `word2vec-wiki-10`"
   ]
  },
  {
   "cell_type": "code",
   "execution_count": 16,
   "metadata": {},
   "outputs": [
    {
     "name": "stderr",
     "output_type": "stream",
     "text": [
      "2018-11-04 15:18:12,255 : INFO : saving Word2Vec object under word2vec-wiki-10, separately None\n",
      "2018-11-04 15:18:12,256 : INFO : not storing attribute vectors_norm\n",
      "2018-11-04 15:18:12,258 : INFO : not storing attribute cum_table\n",
      "2018-11-04 15:18:12,336 : INFO : saved word2vec-wiki-10\n"
     ]
    }
   ],
   "source": [
    "model.save('word2vec-wiki-10')"
   ]
  },
  {
   "cell_type": "markdown",
   "metadata": {},
   "source": [
    "### Load the model `word2vec-wiki-10`"
   ]
  },
  {
   "cell_type": "code",
   "execution_count": 17,
   "metadata": {},
   "outputs": [
    {
     "name": "stderr",
     "output_type": "stream",
     "text": [
      "2018-11-04 15:18:12,343 : INFO : loading Word2Vec object from word2vec-wiki-10\n",
      "2018-11-04 15:18:12,401 : INFO : loading wv recursively from word2vec-wiki-10.wv.* with mmap=None\n",
      "2018-11-04 15:18:12,403 : INFO : setting ignored attribute vectors_norm to None\n",
      "2018-11-04 15:18:12,403 : INFO : loading vocabulary recursively from word2vec-wiki-10.vocabulary.* with mmap=None\n",
      "2018-11-04 15:18:12,407 : INFO : loading trainables recursively from word2vec-wiki-10.trainables.* with mmap=None\n",
      "2018-11-04 15:18:12,408 : INFO : setting ignored attribute cum_table to None\n",
      "2018-11-04 15:18:12,409 : INFO : loaded word2vec-wiki-10\n"
     ]
    }
   ],
   "source": [
    "model = gensim.models.Word2Vec.load('word2vec-wiki-10')"
   ]
  },
  {
   "cell_type": "code",
   "execution_count": null,
   "metadata": {},
   "outputs": [],
   "source": []
  }
 ],
 "metadata": {
  "kernelspec": {
   "display_name": "Python 3",
   "language": "python",
   "name": "python3"
  },
  "language_info": {
   "codemirror_mode": {
    "name": "ipython",
    "version": 3
   },
   "file_extension": ".py",
   "mimetype": "text/x-python",
   "name": "python",
   "nbconvert_exporter": "python",
   "pygments_lexer": "ipython3",
   "version": "3.6.5"
  }
 },
 "nbformat": 4,
 "nbformat_minor": 2
}
